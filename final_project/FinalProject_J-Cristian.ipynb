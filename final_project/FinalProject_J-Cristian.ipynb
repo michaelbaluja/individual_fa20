{
 "cells": [
  {
   "cell_type": "markdown",
   "metadata": {},
   "source": [
    "# COGS 108 - Final Project "
   ]
  },
  {
   "cell_type": "markdown",
   "metadata": {},
   "source": [
    "# Overview"
   ]
  },
  {
   "cell_type": "markdown",
   "metadata": {},
   "source": [
    "My overall project is trying to see if the crime rate and park ratings in san diego are inversly related. This means that if one goes up then the other will go down. For example, more crime rate would imply lower park ratings and vice versa.  "
   ]
  },
  {
   "cell_type": "markdown",
   "metadata": {},
   "source": [
    "# Name & GitHub ID\n",
    "\n",
    "- Name: Cristian Jarquin\n",
    "- GitHub Username: J-Cristian"
   ]
  },
  {
   "cell_type": "markdown",
   "metadata": {},
   "source": [
    "# Research Question"
   ]
  },
  {
   "cell_type": "markdown",
   "metadata": {},
   "source": [
    "How does the number of police reports near parks affect their yelp ratings? "
   ]
  },
  {
   "cell_type": "markdown",
   "metadata": {},
   "source": [
    "## Background and Prior Work"
   ]
  },
  {
   "cell_type": "markdown",
   "metadata": {},
   "source": [
    "Ther first link is a map of where all of the san diego gangs reside. I found this to be a good indication as to where it may be more probable of police incidences. The map is sectioned out by blue areas you can click on to see what gangs territores areThe second link is a list of the top 10 worst neigboorhoods in san deigo. This site takes into consideration afforability, crime rate, safety, unemployment rate, population density, median income, etc. \n",
    "\n",
    "References (include links):\n",
    "- 1)https://www.google.com/maps/d/u/0/viewer?msa=0&mid=1AzdtoinrSR7yMyK1dOdH9OkYLWc&ll=32.75914831142031%2C-117.20489505384519&z=11\n",
    "- 2)https://www.roadsnacks.net/worst-neighborhoods-in-san-diego-ca/"
   ]
  },
  {
   "cell_type": "markdown",
   "metadata": {},
   "source": [
    "# Hypothesis\n"
   ]
  },
  {
   "cell_type": "markdown",
   "metadata": {},
   "source": [
    "I hypothesize that the crime rates and the park ratings are inversly related. "
   ]
  },
  {
   "cell_type": "markdown",
   "metadata": {},
   "source": [
    "# Dataset(s)"
   ]
  },
  {
   "cell_type": "markdown",
   "metadata": {},
   "source": [
    "- Dataset Name: df_yelp_parks \n",
    "- Link to the dataset: https://raw.githubusercontent.com/COGS108/individual_fa20/master/data/yelp_SD_parks.csv\n",
    "- Number of observations: (833, 10)\n",
    "\n",
    "This dataset has 10 columns: 'name', 'address', 'phone', 'id', 'url', 'rating', 'review_count', 'longitude', 'latitude', 'is_closed'. This dataset has information on the name of each park, the average rating 1-5, the address of the parks, its coordinates and number of reviews made.  \n",
    "\n",
    "- Dataset Name: df_pd_reports\n",
    "- Link to the dataset: https://raw.githubusercontent.com/COGS108/individual_fa20/master/data/pd_calls_for_service_2020_datasd.csv\n",
    "- Number of observations: (522569, 14)\n",
    "\n",
    "This has a lot of information on police reports although I will only be using a fraction of it. I plan on using the police beat which the associated neighborhood to the report and use dispotition describes the result of the call. For example, arrest, cancel, duplicate call, etc.  \n",
    "\n",
    "\n",
    "I plan on using the general location not the specific addresses to combine the two datasets so I can have a count of the total number of police reports that resulted in arrests in that area and compare that witht he rating of the park in that specific area.  "
   ]
  },
  {
   "cell_type": "markdown",
   "metadata": {},
   "source": [
    "# Setup"
   ]
  },
  {
   "cell_type": "code",
   "execution_count": 87,
   "metadata": {
    "scrolled": true
   },
   "outputs": [],
   "source": [
    "## YOUR CODE HERE\n",
    "#imports\n",
    "import numpy as np\n",
    "import pandas as pd\n",
    "import matplotlib.pyplot as plt\n",
    "   \n",
    "import seaborn as sns\n",
    "sns.set()\n",
    "sns.set_context('talk')\n",
    "\n",
    "#import datasets\n",
    "df_yelp_parks = pd.read_csv(\"https://raw.githubusercontent.com/COGS108/individual_fa20/master/data/yelp_SD_parks.csv\")\n",
    "df_pd_reports = pd.read_csv(\"https://raw.githubusercontent.com/COGS108/individual_fa20/master/data/pd_calls_for_service_2020_datasd.csv\")\n",
    "df_beat = pd.read_csv('http://seshat.datasd.org/pd/pd_beat_neighborhoods_datasd.csv')"
   ]
  },
  {
   "cell_type": "markdown",
   "metadata": {},
   "source": [
    "### Data Cleaning"
   ]
  },
  {
   "cell_type": "markdown",
   "metadata": {},
   "source": [
    "Describe your data cleaning steps here."
   ]
  },
  {
   "cell_type": "code",
   "execution_count": 88,
   "metadata": {},
   "outputs": [
    {
     "data": {
      "text/plain": [
       "Index(['name', 'rating'], dtype='object')"
      ]
     },
     "execution_count": 88,
     "metadata": {},
     "output_type": "execute_result"
    }
   ],
   "source": [
    "drop_col = ['phone', 'id', 'url', 'review_count', 'longitude', 'latitude', 'address', 'is_closed']\n",
    "df_yelp_parks = df_yelp_parks.drop(columns = drop_col) \n",
    "df_yelp_parks.columns\n",
    "# I only need the park names and ratings to analyze the correlation so I dropped the rest of the columns\n",
    "# I also kept the address column just in case I need to look up where a park "
   ]
  },
  {
   "cell_type": "code",
   "execution_count": 89,
   "metadata": {},
   "outputs": [
    {
     "data": {
      "text/plain": [
       "Index(['disposition', 'beat'], dtype='object')"
      ]
     },
     "execution_count": 89,
     "metadata": {},
     "output_type": "execute_result"
    }
   ],
   "source": [
    "drop_col = ['incident_num', 'date_time', 'day_of_week', 'address_number_primary',\n",
    "       'address_dir_primary', 'address_road_primary', 'address_sfx_primary',\n",
    "       'address_dir_intersecting', 'address_road_intersecting',\n",
    "       'address_sfx_intersecting', 'call_type',\n",
    "       'priority']\n",
    "df_pd_reports = df_pd_reports.drop(columns = drop_col)\n",
    "df_pd_reports.columns\n",
    "# Since I am looking for arrests and location I only need the beat nad dispotion columns\n",
    "# i dropped the rest since i don't plan on using any of it"
   ]
  },
  {
   "cell_type": "code",
   "execution_count": 90,
   "metadata": {},
   "outputs": [],
   "source": [
    "# this depicts what these abriviations signify\n",
    "# A--> ARREST MADE\n",
    "# AB--> ARREST MADE, BOARD AND SECURE\n",
    "# AHR--> ARREST MADE, HIGH RISK (CRISIS RESPONSE TEAM)"
   ]
  },
  {
   "cell_type": "code",
   "execution_count": 91,
   "metadata": {},
   "outputs": [
    {
     "name": "stdout",
     "output_type": "stream",
     "text": [
      "['A' 'AHR' 'AB']\n",
      "(19984, 2)\n"
     ]
    }
   ],
   "source": [
    "#  this code gets rid of all the rows that didn't result in an arrest\n",
    "remove = [ 'K', 'W', 'DUP', 'CAN', 'O', 'U', 'R', 'X', 'S', 'RB', 'OHR', 'KHR', 'KB', 'V', 'RHR', 'DEF']\n",
    "indexNames = df_pd_reports[ (df_pd_reports['disposition'] == remove[0] )].index\n",
    "df_pd_reports.drop(indexNames , inplace=True)\n",
    "indexNames = df_pd_reports[ (df_pd_reports['disposition'] == remove[1] )].index\n",
    "df_pd_reports.drop(indexNames , inplace=True)\n",
    "indexNames = df_pd_reports[ (df_pd_reports['disposition'] == remove[2] )].index\n",
    "df_pd_reports.drop(indexNames , inplace=True)\n",
    "indexNames = df_pd_reports[ (df_pd_reports['disposition'] == remove[3] )].index\n",
    "df_pd_reports.drop(indexNames , inplace=True)\n",
    "indexNames = df_pd_reports[ (df_pd_reports['disposition'] == remove[4] )].index\n",
    "df_pd_reports.drop(indexNames , inplace=True)\n",
    "indexNames = df_pd_reports[ (df_pd_reports['disposition'] == remove[5] )].index\n",
    "df_pd_reports.drop(indexNames , inplace=True)\n",
    "indexNames = df_pd_reports[ (df_pd_reports['disposition'] == remove[6] )].index\n",
    "df_pd_reports.drop(indexNames , inplace=True)\n",
    "indexNames = df_pd_reports[ (df_pd_reports['disposition'] == remove[7] )].index\n",
    "df_pd_reports.drop(indexNames , inplace=True)\n",
    "indexNames = df_pd_reports[ (df_pd_reports['disposition'] == remove[8] )].index\n",
    "df_pd_reports.drop(indexNames , inplace=True)\n",
    "indexNames = df_pd_reports[ (df_pd_reports['disposition'] == remove[9] )].index\n",
    "df_pd_reports.drop(indexNames , inplace=True)\n",
    "indexNames = df_pd_reports[ (df_pd_reports['disposition'] == remove[10] )].index\n",
    "df_pd_reports.drop(indexNames , inplace=True)\n",
    "indexNames = df_pd_reports[ (df_pd_reports['disposition'] == remove[11] )].index\n",
    "df_pd_reports.drop(indexNames , inplace=True)\n",
    "indexNames = df_pd_reports[ (df_pd_reports['disposition'] == remove[12] )].index\n",
    "df_pd_reports.drop(indexNames , inplace=True)\n",
    "indexNames = df_pd_reports[ (df_pd_reports['disposition'] == remove[13] )].index\n",
    "df_pd_reports.drop(indexNames , inplace=True)\n",
    "indexNames = df_pd_reports[ (df_pd_reports['disposition'] == remove[14] )].index\n",
    "df_pd_reports.drop(indexNames , inplace=True)\n",
    "indexNames = df_pd_reports[ (df_pd_reports['disposition'] == remove[15] )].index\n",
    "df_pd_reports.drop(indexNames , inplace=True)\n",
    "# this gets rid of any rows with missing data\n",
    "df_pd_reports = df_pd_reports.dropna(axis=0, how='any')\n",
    "# now we can take a look and see that only arrests are left\n",
    "print(df_pd_reports['disposition'].unique())\n",
    "print(df_pd_reports.shape)"
   ]
  },
  {
   "cell_type": "code",
   "execution_count": 92,
   "metadata": {},
   "outputs": [
    {
     "name": "stdout",
     "output_type": "stream",
     "text": [
      "[-1, 55, 579, 100, 64, 54, 673, 38, 130, 69, 62, 48, 28]\n"
     ]
    }
   ],
   "source": [
    "# this code below finds all the possible entries for beat(location) of both \n",
    "# the police reports and the the dictionary for which we have a meaning\n",
    "df_pd_reports['beat'].unique()\n",
    "pd_reports = [523, 315, 627, 122, 126, 116, 121, 524, 437, 834, 243, 811,  -1,\n",
    "       936, 431, 521, 614, 836, 321, 451, 813, 623, 111, 721, 531, 712,\n",
    "       622, 832, 713, 826, 541, 617, 113, 432, 114, 517, 441, 311, 123,\n",
    "       625, 822, 436, 831, 828, 611, 234, 511, 835, 322, 839, 626, 933,\n",
    "       527, 529, 512, 723, 833, 714, 624, 514, 821, 724, 447, 525, 323,\n",
    "       124, 232, 522, 628, 442, 613, 246, 526, 115, 446, 837, 612, 444,\n",
    "       242, 824, 314, 438, 528, 515, 313, 827, 621, 516, 445, 327, 838,\n",
    "       934, 823, 324, 825, 841, 233, 725, 433, 518, 935, 722, 615, 241,\n",
    "       814, 326, 443, 312, 812, 618, 931, 452, 245, 434, 112, 325, 932,\n",
    "       231, 937, 316, 439, 616, 235, 711, 829,  55, 579, 100,  64,  54,\n",
    "       673,  38, 130,  69,  62,  48,  28, 435]\n",
    "len(n)\n",
    "df_beat['Beat'].unique()\n",
    "areas_with_arrests = [111, 112, 113, 114, 115, 116, 121, 122, 123, 124, 126, 231, 232,\n",
    "       233, 234, 235, 241, 242, 243, 245, 246, 311, 312, 313, 314, 315,\n",
    "       316, 321, 322, 323, 324, 325, 326, 327, 431, 432, 433, 434, 435,\n",
    "       436, 437, 438, 439, 441, 442, 443, 444, 445, 446, 447, 451, 452,\n",
    "       511, 512, 514, 515, 516, 517, 518, 521, 522, 523, 524, 525, 526,\n",
    "       527, 528, 529, 531, 541, 611, 612, 613, 614, 615, 616, 617, 618,\n",
    "       621, 622, 623, 624, 625, 626, 627, 628, 711, 712, 713, 714, 721,\n",
    "       722, 723, 724, 725, 811, 812, 813, 814, 821, 822, 823, 824, 825,\n",
    "       826, 827, 828, 829, 831, 832, 833, 834, 835, 836, 837, 838, 839,\n",
    "       841, 931, 932, 933, 934, 935, 936, 937]\n",
    "len(m)\n",
    "\n",
    "# this finds all the values that are not in our dictionary(df_beat)  \n",
    "remove = []\n",
    "for i in range(len(pd_reports)):\n",
    "    if pd_reports[i] not in areas_with_arrests:\n",
    "        remove.append(pd_reports[i])\n",
    "print(remove)\n"
   ]
  },
  {
   "cell_type": "code",
   "execution_count": 93,
   "metadata": {},
   "outputs": [
    {
     "data": {
      "text/plain": [
       "(19754, 2)"
      ]
     },
     "execution_count": 93,
     "metadata": {},
     "output_type": "execute_result"
    }
   ],
   "source": [
    "# here we remove the values from the remove list above since we don't know the location associated with that beat value\n",
    "indexNames = df_pd_reports[ (df_pd_reports['beat'] == remove[0] )].index\n",
    "df_pd_reports.drop(indexNames , inplace=True)\n",
    "indexNames = df_pd_reports[ (df_pd_reports['beat'] == remove[1] )].index\n",
    "df_pd_reports.drop(indexNames , inplace=True)\n",
    "indexNames = df_pd_reports[ (df_pd_reports['beat'] == remove[2] )].index\n",
    "df_pd_reports.drop(indexNames , inplace=True)\n",
    "indexNames = df_pd_reports[ (df_pd_reports['beat'] == remove[3] )].index\n",
    "df_pd_reports.drop(indexNames , inplace=True)\n",
    "indexNames = df_pd_reports[ (df_pd_reports['beat'] == remove[4] )].index\n",
    "df_pd_reports.drop(indexNames , inplace=True)\n",
    "indexNames = df_pd_reports[ (df_pd_reports['beat'] == remove[5] )].index\n",
    "df_pd_reports.drop(indexNames , inplace=True)\n",
    "indexNames = df_pd_reports[ (df_pd_reports['beat'] == remove[6] )].index\n",
    "df_pd_reports.drop(indexNames , inplace=True)\n",
    "indexNames = df_pd_reports[ (df_pd_reports['beat'] == remove[7] )].index\n",
    "df_pd_reports.drop(indexNames , inplace=True)\n",
    "indexNames = df_pd_reports[ (df_pd_reports['beat'] == remove[8] )].index\n",
    "df_pd_reports.drop(indexNames , inplace=True)\n",
    "indexNames = df_pd_reports[ (df_pd_reports['beat'] == remove[9] )].index\n",
    "df_pd_reports.drop(indexNames , inplace=True)\n",
    "indexNames = df_pd_reports[ (df_pd_reports['beat'] == remove[10] )].index\n",
    "df_pd_reports.drop(indexNames , inplace=True)\n",
    "indexNames = df_pd_reports[ (df_pd_reports['beat'] == remove[11] )].index\n",
    "df_pd_reports.drop(indexNames , inplace=True)\n",
    "indexNames = df_pd_reports[ (df_pd_reports['beat'] == remove[12] )].index\n",
    "df_pd_reports.drop(indexNames , inplace=True)\n",
    "\n",
    "df_pd_reports.shape\n"
   ]
  },
  {
   "cell_type": "code",
   "execution_count": 144,
   "metadata": {},
   "outputs": [
    {
     "name": "stdout",
     "output_type": "stream",
     "text": [
      "Balboa Park has had 247 arrests\n",
      "La Jolla has had 206 arrests\n",
      "Emerald Hills has had 59 arrests\n",
      "Border has had 75 arrests\n",
      "[247, 206, 59, 75]\n"
     ]
    }
   ],
   "source": [
    "# here we find the sum of each beat to see the number of arrest withinthat beat(location) \n",
    "# note that I am only looking at four differnt places since I am on a time constraint\n",
    "areas = ['Balboa Park', 'La Jolla', 'Emerald Hills' ,'Border'] \n",
    "arrests = []\n",
    "\n",
    "details = df_pd_reports.apply(lambda x : True\n",
    "            if x['beat'] == 531 else False, axis = 1)\n",
    "num_rows = len(details[details == True].index) \n",
    "print('Balboa Park has had' ,num_rows, 'arrests')\n",
    "arrests.append(num_rows)\n",
    "\n",
    "details = df_pd_reports.apply(lambda x : True\n",
    "            if x['beat'] == 124 else False, axis = 1)\n",
    "num_rows = len(details[details == True].index) \n",
    "print('La Jolla has had' ,num_rows, 'arrests')\n",
    "arrests.append(num_rows)\n",
    "\n",
    "details = df_pd_reports.apply(lambda x : True\n",
    "            if x['beat'] == 431 else False, axis = 1)\n",
    "num_rows = len(details[details == True].index) \n",
    "print('Emerald Hills has had' ,num_rows, 'arrests')\n",
    "arrests.append(num_rows)\n",
    "\n",
    "details = df_pd_reports.apply(lambda x : True\n",
    "            if x['beat'] == 714 else False, axis = 1)\n",
    "num_rows = len(details[details == True].index) \n",
    "print('Border has had' ,num_rows, 'arrests')\n",
    "arrests.append(num_rows)\n",
    "\n",
    "print(arrests)"
   ]
  },
  {
   "cell_type": "code",
   "execution_count": 156,
   "metadata": {},
   "outputs": [
    {
     "name": "stdout",
     "output_type": "stream",
     "text": [
      "                       name  rating\n",
      "0               Balboa Park     5.0\n",
      "1                  La Jolla     4.5\n",
      "2        Emerald Hills Park     3.5\n",
      "3  San Ysidro Port of Entry     3.0\n"
     ]
    }
   ],
   "source": [
    "areas = ['Balboa Park', 'La Jolla', 'Emerald Hills Park' ,'San Ysidro Port of Entry']  \n",
    "df_yelp_parks.set_index(df_yelp_parks.name,inplace=True)\n",
    "print(df_yelp_parks.loc[areas].reset_index(drop=True))\n",
    "\n",
    "ratings = [5.0, 4.5, 3.5, 3.0]"
   ]
  },
  {
   "cell_type": "markdown",
   "metadata": {},
   "source": [
    "# Data Analysis & Results"
   ]
  },
  {
   "cell_type": "markdown",
   "metadata": {},
   "source": [
    "Include cells that describe the steps in your data analysis."
   ]
  },
  {
   "cell_type": "code",
   "execution_count": 164,
   "metadata": {
    "scrolled": true
   },
   "outputs": [
    {
     "data": {
      "image/png": "[encoded data removed]",
      "text/plain": [
       "<Figure size 432x288 with 1 Axes>"
      ]
     },
     "metadata": {},
     "output_type": "display_data"
    }
   ],
   "source": [
    "plt.plot(arrests, ratings)\n",
    "plt.xlabel('Number of Arrests')\n",
    "plt.ylabel('Ratings')\n",
    "plt.title('Correlation between number of arrests to ratings')\n",
    "plt.grid(False)\n",
    "plt.show()"
   ]
  },
  {
   "cell_type": "code",
   "execution_count": null,
   "metadata": {},
   "outputs": [],
   "source": [
    "# Analysis: I think I may have not had enough data to get something meaningful from my graph.\n",
    "# There may be a high crime rate at te border since there is a higher traffic of people in this area\n",
    "# other areas like emerald hills has a high gang activity but there was a lower number of arrest \n",
    "# compared to areas like balboa park. "
   ]
  },
  {
   "cell_type": "markdown",
   "metadata": {},
   "source": [
    "# Ethics & Privacy"
   ]
  },
  {
   "cell_type": "markdown",
   "metadata": {},
   "source": [
    "I can see that removing a lot of the data from the df_pd_reports plays an important role in eithics and privacy. It is important because people might be able to identify someone by the date time and location data and see what the result was for their intereaction with the police since it gives the dispotion. This is definaly an invasion of privacy since people may not want others to know what happened. "
   ]
  },
  {
   "cell_type": "markdown",
   "metadata": {},
   "source": [
    "# Conclusion & Discussion"
   ]
  },
  {
   "cell_type": "markdown",
   "metadata": {},
   "source": [
    "to conclude I found that number of arrests and yelp ratings are not inversly realted but maybe directly related. I found the graph very suprsing since I figured crime rate will affect people rating but I failed to consider the differnt topics they my be inouting their rating for. For example, the border may have the highest arrest but people might be basing thier reviews on the how ,uch they like to travel to Mexico. I may have made a too big of an overgrealization by only choosing four different data entries. I will come back and try to plot more entries on and see if the graph chnages in any way. I also wish I had more time to clean up my graph by maybe making the background white and try a differnt plot to see if it is easier to read. "
   ]
  }
 ],
 "metadata": {
  "kernelspec": {
   "display_name": "Python 3",
   "language": "python",
   "name": "python3"
  },
  "language_info": {
   "codemirror_mode": {
    "name": "ipython",
    "version": 3
   },
   "file_extension": ".py",
   "mimetype": "text/x-python",
   "name": "python",
   "nbconvert_exporter": "python",
   "pygments_lexer": "ipython3",
   "version": "3.7.3"
  }
 },
 "nbformat": 4,
 "nbformat_minor": 2
}
