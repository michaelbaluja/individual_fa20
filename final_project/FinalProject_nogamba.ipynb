{
 "cells": [
  {
   "cell_type": "markdown",
   "metadata": {},
   "source": [
    "# COGS 108 - Final Project "
   ]
  },
  {
   "cell_type": "markdown",
   "metadata": {},
   "source": [
    "# Overview"
   ]
  },
  {
   "cell_type": "markdown",
   "metadata": {},
   "source": [
    "With the COVID-19 pandemic impacting the entire world, staying at home has become the new normal. Parks are now positioned to play a very important role in our society because they allow us to go outside, excercise, have picnics with friends/family, and spend time in nature safely and with proper social distancing. One difficult part of the pandemic has been it's effect on the population's physical and mental well-being so, parks have been an increasingly popular place for people to go. This study looks into the most popular parks and the amenities they offer. Now that a large majority of the population are moving towards regular use of parks, what amenities do park users want to see in their parks. Are regular parks with access to places to sit more popular than parks with excercise equipments. By using Yelp ratings and natural language processing as well as frequency of visits to the park we can examine how popular parks with certain amenities are in comparison to others."
   ]
  },
  {
   "cell_type": "markdown",
   "metadata": {},
   "source": [
    "# Name & GitHub ID\n",
    "\n",
    "- Name: Moraa Ogamba\n",
    "- GitHub Username: nogamba"
   ]
  },
  {
   "cell_type": "markdown",
   "metadata": {},
   "source": [
    "# Research Question"
   ]
  },
  {
   "cell_type": "markdown",
   "metadata": {},
   "source": [
    "Parks have become and increasingly important part of people's lives with the world moving towards more outdoor activities in which people can properly social distance. Does including park amenities, such as athletic equipment, family areas, picnic areas etc. improve park ratings?"
   ]
  },
  {
   "cell_type": "markdown",
   "metadata": {},
   "source": [
    "## Background and Prior Work"
   ]
  },
  {
   "cell_type": "markdown",
   "metadata": {},
   "source": [
    "Parks offer a space for people to host picnics, relax, meet with friends to socialize at a distance and commune with nature. But one thing that San Diego parks might have to invest in as the times change is the access to more amenities such as outdoor exercise equipement, family areas, and more in open air spaces. Parks are now becoming a more central part of people's lives and improving the facilities available will be key to integrating parks into more people's lives and may even result in health improvements for community members.\n",
    "\n",
    "There are a number of park amenities that attract community memebers to parks.Outdoor fitness equipment (OFE) has been around for over 40 years and tend to include static pieces of equipment (1). OFE was appealing because it allowed people to escape traditional gym settings and exercise in a more open environment. Companies that fit parks with these kinds of gym equipement have a vast number of designs and set-ups that they have proven to be successful (1). Today the appeal for OFE might be even more due to the current global situation with COVID-19. Additionally, families are increasingly in need of spaces where their children can enjoy outdoor space since close indoor contact is not a popular option. Playgrounds offer a place for families to spend time together especially if they do not have backyards of their own, and gives children the chance to enjoy nature especially in urban areas. Other amenities that are often found in parks include park benches, picnic areas, and shaded structures.\n",
    "\n",
    "A prior study done in 2019 of the impact of parks on a community looked at whether park features affected park usage and accessibility (2). The results found that park features had an impact on park usage and physical activity, and they took into account cleanliness and location as well (2).\n",
    "\n",
    "\n",
    "References (include links):\n",
    "- 1) https://www.athleticbusiness.com/outdoor/what-to-consider-when-adding-outdoor-fitness-to-a-park.html\n",
    "- 2) https://www.hindawi.com/journals/jeph/2017/7582402/\n",
    "- 3) https://bmcpublichealth.biomedcentral.com/articles/10.1186/1471-2458-13-1216"
   ]
  },
  {
   "cell_type": "markdown",
   "metadata": {},
   "source": [
    "# Hypothesis\n"
   ]
  },
  {
   "cell_type": "markdown",
   "metadata": {},
   "source": [
    "Because parks are becoming more and more important, I believe that adding adding amenities such as Outdoor Fitness Equipment, playgrounds, benches and picnic spots will encourage community members to visit the parks and in turn result in higher park ratings. There is a possibility that other aspects can impact the ratings that community members give the parks such as location and community, but we could still examine if a correlation exists between parks amenities and ratings."
   ]
  },
  {
   "cell_type": "markdown",
   "metadata": {},
   "source": [
    "# Dataset(s)"
   ]
  },
  {
   "cell_type": "markdown",
   "metadata": {},
   "source": [
    "- Dataset Name: yelp_SD_reviews.csv\n",
    "- Link to the dataset: https://github.com/COGS108/individual_fa20/blob/master/data/yelp_SD_reviews.csv\n",
    "- Number of observations: 2333 rows X 3 columns\n",
    "\n",
    "This dataset contains the location, names and ratings of parks in San Diego. It also includes text data of a review written about the park."
   ]
  },
  {
   "cell_type": "markdown",
   "metadata": {},
   "source": [
    "# Setup"
   ]
  },
  {
   "cell_type": "code",
   "execution_count": 1,
   "metadata": {},
   "outputs": [],
   "source": [
    "# Imports - these are all the imports needed for the assignment\n",
    "%matplotlib inline\n",
    "\n",
    "import numpy as np\n",
    "import pandas as pd\n",
    "import matplotlib.pyplot as plt\n",
    "import re\n",
    "import seaborn as sns\n",
    "\n",
    "# Import nltk package \n",
    "#   PennTreeBank word tokenizer \n",
    "#   English language stopwords\n",
    "import nltk\n",
    "from nltk.tokenize import word_tokenize\n",
    "from nltk.corpus import stopwords\n",
    "from nltk.stem.porter import PorterStemmer\n",
    "from nltk.tokenize import RegexpTokenizer\n",
    "from nltk.stem.wordnet import WordNetLemmatizer\n",
    "\n",
    "import warnings\n",
    "warnings.filterwarnings('ignore')\n",
    "\n",
    "# scikit-learn imports\n",
    "#   SVM (Support Vector Machine) classifer \n",
    "#   Vectorizer, which transforms text data into bag-of-words feature\n",
    "#   TF-IDF Vectorizer that first removes widely used words in the dataset and then transforms test data\n",
    "#   Metrics functions to evaluate performance\n",
    "from sklearn.svm import SVC\n",
    "from sklearn.feature_extraction.text import CountVectorizer, TfidfVectorizer, TfidfTransformer\n",
    "from sklearn.metrics import classification_report, precision_recall_fscore_support"
   ]
  },
  {
   "cell_type": "code",
   "execution_count": 2,
   "metadata": {},
   "outputs": [
    {
     "name": "stderr",
     "output_type": "stream",
     "text": [
      "[nltk_data] Downloading package punkt to /home/nogamba/nltk_data...\n",
      "[nltk_data]   Package punkt is already up-to-date!\n",
      "[nltk_data] Downloading package stopwords to\n",
      "[nltk_data]     /home/nogamba/nltk_data...\n",
      "[nltk_data]   Package stopwords is already up-to-date!\n"
     ]
    },
    {
     "data": {
      "text/plain": [
       "True"
      ]
     },
     "execution_count": 2,
     "metadata": {},
     "output_type": "execute_result"
    }
   ],
   "source": [
    "# Download the NLTK English tokenizer and the stopwords of all languages\n",
    "nltk.download('punkt')\n",
    "nltk.download('stopwords')"
   ]
  },
  {
   "cell_type": "code",
   "execution_count": 3,
   "metadata": {},
   "outputs": [],
   "source": [
    "# Helper functions\n",
    "\n",
    "def standardize_text(dataset):\n",
    "    for i in range(0, 2333):\n",
    "        #Remove punctuations\n",
    "        text = re.sub('[^a-zA-Z]', ' ', str(dataset['text'][i]))\n",
    "\n",
    "        #Convert to lowercase\n",
    "        text = text.lower()\n",
    "\n",
    "        #remove tags\n",
    "        text=re.sub(\"&lt;/?.*?&gt;\",\" &lt;&gt; \",text)\n",
    "      \n",
    "        # remove special characters and digits\n",
    "        text=re.sub(\"(\\\\d|\\\\W)+\",\" \",text)\n",
    "    \n",
    "        dataset['text'][i] = str(text);\n",
    "\n",
    "def convert_rating(rating):\n",
    "    if rating >= 4:\n",
    "        return \"positive\"\n",
    "    elif (rating < 3):\n",
    "        return \"negative\"\n",
    "    else:\n",
    "        return \"neutral\"\n"
   ]
  },
  {
   "cell_type": "markdown",
   "metadata": {},
   "source": [
    "# Data Cleaning"
   ]
  },
  {
   "cell_type": "markdown",
   "metadata": {},
   "source": [
    "For the yelp_SD_reviews.csv dataset I mainly focused on cleaning the text data for the reviews. I used a standardize_text() function to remove punctuation, remove any tags or special characters and change all the words to lowercase. For both datasets, I also converted the ratings into sentiments using a custom function convert_rating(). For ratings >= 4 I set them as \"positive\", for ratings < 3 I set them to \"negative\", and the remaining values were set to \"neutral\". Lastly, I dropped any null values in the panda dataframe."
   ]
  },
  {
   "cell_type": "code",
   "execution_count": 4,
   "metadata": {},
   "outputs": [],
   "source": [
    "# Load datasets into panda dataframes\n",
    "yelp_SD_reviews = pd.read_csv(\"https://raw.githubusercontent.com/COGS108/individual_fa20/master/data/yelp_SD_reviews.csv\")\n",
    "\n",
    "# Rename columns\n",
    "yelp_SD_reviews.rename(columns={'id': 'name'}, inplace=True)"
   ]
  },
  {
   "cell_type": "code",
   "execution_count": 5,
   "metadata": {},
   "outputs": [],
   "source": [
    "# label reviews as positive, negative, or neutral\n",
    "yelp_SD_reviews[\"label\"] = yelp_SD_reviews[\"rating\"].apply(convert_rating)"
   ]
  },
  {
   "cell_type": "code",
   "execution_count": 6,
   "metadata": {},
   "outputs": [],
   "source": [
    "# Clean the review text\n",
    "standardize_text(yelp_SD_reviews)  "
   ]
  },
  {
   "cell_type": "code",
   "execution_count": 7,
   "metadata": {},
   "outputs": [
    {
     "data": {
      "text/html": [
       "<div>\n",
       "<style scoped>\n",
       "    .dataframe tbody tr th:only-of-type {\n",
       "        vertical-align: middle;\n",
       "    }\n",
       "\n",
       "    .dataframe tbody tr th {\n",
       "        vertical-align: top;\n",
       "    }\n",
       "\n",
       "    .dataframe thead th {\n",
       "        text-align: right;\n",
       "    }\n",
       "</style>\n",
       "<table border=\"1\" class=\"dataframe\">\n",
       "  <thead>\n",
       "    <tr style=\"text-align: right;\">\n",
       "      <th></th>\n",
       "      <th>name</th>\n",
       "      <th>rating</th>\n",
       "      <th>text</th>\n",
       "      <th>label</th>\n",
       "    </tr>\n",
       "  </thead>\n",
       "  <tbody>\n",
       "    <tr>\n",
       "      <th>0</th>\n",
       "      <td>Balboa Park</td>\n",
       "      <td>5</td>\n",
       "      <td>balboa park is a must see when coming to san d...</td>\n",
       "      <td>positive</td>\n",
       "    </tr>\n",
       "    <tr>\n",
       "      <th>1</th>\n",
       "      <td>Balboa Park</td>\n",
       "      <td>5</td>\n",
       "      <td>beautiful grounds even to take a stroll during...</td>\n",
       "      <td>positive</td>\n",
       "    </tr>\n",
       "    <tr>\n",
       "      <th>2</th>\n",
       "      <td>Balboa Park</td>\n",
       "      <td>5</td>\n",
       "      <td>beautiful sightseeing in san diego lots of wal...</td>\n",
       "      <td>positive</td>\n",
       "    </tr>\n",
       "    <tr>\n",
       "      <th>3</th>\n",
       "      <td>Civita Park</td>\n",
       "      <td>5</td>\n",
       "      <td>was invited to child s b day party pre covid t...</td>\n",
       "      <td>positive</td>\n",
       "    </tr>\n",
       "    <tr>\n",
       "      <th>4</th>\n",
       "      <td>Civita Park</td>\n",
       "      <td>5</td>\n",
       "      <td>pretty nice park beautiful design anyone is we...</td>\n",
       "      <td>positive</td>\n",
       "    </tr>\n",
       "  </tbody>\n",
       "</table>\n",
       "</div>"
      ],
      "text/plain": [
       "          name  rating                                               text  \\\n",
       "0  Balboa Park       5  balboa park is a must see when coming to san d...   \n",
       "1  Balboa Park       5  beautiful grounds even to take a stroll during...   \n",
       "2  Balboa Park       5  beautiful sightseeing in san diego lots of wal...   \n",
       "3  Civita Park       5  was invited to child s b day party pre covid t...   \n",
       "4  Civita Park       5  pretty nice park beautiful design anyone is we...   \n",
       "\n",
       "      label  \n",
       "0  positive  \n",
       "1  positive  \n",
       "2  positive  \n",
       "3  positive  \n",
       "4  positive  "
      ]
     },
     "execution_count": 7,
     "metadata": {},
     "output_type": "execute_result"
    }
   ],
   "source": [
    "# Drop null values in category, delete original column categories and reset the index\n",
    "yelp_SD_reviews = yelp_SD_reviews.dropna(axis=0, subset=['rating'])\n",
    "\n",
    "# Display dataset preview\n",
    "yelp_SD_reviews.head(5)"
   ]
  },
  {
   "cell_type": "markdown",
   "metadata": {},
   "source": [
    "# Data Analysis & Results"
   ]
  },
  {
   "cell_type": "markdown",
   "metadata": {},
   "source": [
    "First, I looked at the descriptive analysis of reviews to get an idea of how long reviews were on average, how many total words there were and other features to determine how to customize the TF-IDF function."
   ]
  },
  {
   "cell_type": "code",
   "execution_count": 8,
   "metadata": {},
   "outputs": [
    {
     "data": {
      "text/plain": [
       "count    2333.000000\n",
       "mean       29.561937\n",
       "std         3.417635\n",
       "min         8.000000\n",
       "25%        28.000000\n",
       "50%        30.000000\n",
       "75%        32.000000\n",
       "max        44.000000\n",
       "Name: word_count, dtype: float64"
      ]
     },
     "execution_count": 8,
     "metadata": {},
     "output_type": "execute_result"
    }
   ],
   "source": [
    "# Fetch wordcount for each text review\n",
    "yelp_SD_reviews['word_count'] = yelp_SD_reviews['text'].apply(lambda x: len(str(x).split(\" \")))\n",
    "\n",
    "# Descriptive statistics of word counts\n",
    "yelp_SD_reviews.word_count.describe()"
   ]
  },
  {
   "cell_type": "markdown",
   "metadata": {},
   "source": [
    "Then I used this data to create a list of custom stop words for the vectorizer."
   ]
  },
  {
   "cell_type": "code",
   "execution_count": 9,
   "metadata": {},
   "outputs": [],
   "source": [
    "# Create a vocabulary of words\n",
    "# Identify common words\n",
    "freq = pd.Series(' '.join(yelp_SD_reviews['text']).split()).value_counts()[:30]\n",
    "\n",
    "# Creating a list of stop words and adding custom stopwords\n",
    "stop_words = set(stopwords.words(\"english\"))\n",
    "\n",
    "# Creating a list of custom stopwords\n",
    "new_words = freq.index\n",
    "stop_words = stop_words.union(new_words)"
   ]
  },
  {
   "cell_type": "markdown",
   "metadata": {},
   "source": [
    "Using the CountVectorizer to transform the clean text data into vectors without stop_words to perform analysis. And then transformed it using TfidfTransformer to get feature names."
   ]
  },
  {
   "cell_type": "code",
   "execution_count": 10,
   "metadata": {},
   "outputs": [],
   "source": [
    "# Transform data into vectors\n",
    "vectorizer = CountVectorizer(analyzer='word', max_features=2000, tokenizer=word_tokenize, \n",
    "                                 stop_words=stop_words)\n",
    "\n",
    "# Transform reviews yelp_SD_reviews into vectors using the vectorizer\n",
    "yelp_review_vector = vectorizer.fit_transform(yelp_SD_reviews['text'])"
   ]
  },
  {
   "cell_type": "code",
   "execution_count": 11,
   "metadata": {},
   "outputs": [],
   "source": [
    "# Transfor count vectorizer to td-idf\n",
    "tfidf_transformer = TfidfTransformer(smooth_idf=True,use_idf=True).fit(yelp_review_vector)\n",
    "\n",
    "# get feature names\n",
    "feature_names = vectorizer.get_feature_names()\n",
    "\n",
    "#generate tf-idf for the given document\n",
    "tf_idf_vector = tfidf_transformer.transform(vectorizer.transform(yelp_SD_reviews['text']))"
   ]
  },
  {
   "cell_type": "markdown",
   "metadata": {},
   "source": [
    "Defined a helper function that calculate the top TF-IDF features per review and a second helper funtion to calculate the the top average TF-IDF features of all the reviews. Those functions were then utilized by a third function, top_feats_by_class() that returned a list of features that corresponded to each label (\"positive\", \"negative\", and \"neutral\")."
   ]
  },
  {
   "cell_type": "code",
   "execution_count": 12,
   "metadata": {},
   "outputs": [],
   "source": [
    "# Get top n tfidf values in row and return them with their corresponding feature names.\n",
    "def top_tfidf_feats(row, features, top_n=30):\n",
    "    topn_ids = np.argsort(row)[::-1][:top_n]\n",
    "    top_feats = [(features[i], row[i]) for i in topn_ids]\n",
    "    df = pd.DataFrame(top_feats)\n",
    "    df.columns = ['feature', 'tfidf']\n",
    "    \n",
    "    return df\n",
    "\n",
    "# Return the top n features that on average are most important amongst all documents\n",
    "# or amongst the specific document class labels.\n",
    "def top_mean_feats(vector, features, grp_ids=None, min_tfidf=0.3, top_n=30):\n",
    "    if grp_ids:\n",
    "        D = vector[grp_ids].toarray()\n",
    "    else:\n",
    "        D = vector.toarray()\n",
    "\n",
    "    D[D < min_tfidf] = 0\n",
    "    tfidf_means = np.mean(D, axis=0)\n",
    "    \n",
    "    return top_tfidf_feats(tfidf_means, features, top_n)"
   ]
  },
  {
   "cell_type": "code",
   "execution_count": 13,
   "metadata": {},
   "outputs": [],
   "source": [
    "# Return a list of dfs, where each df holds top_n features and their mean tfidf value\n",
    "# calculated across documents with the same class label. '''\n",
    "def top_feats_by_class(vector, rating_types, features, min_tfidf=0.3, top_n=30):\n",
    "    df_feats = []\n",
    "    labels = np.unique(rating_types)\n",
    "    for label in labels:\n",
    "        ids = np.where(rating_types==label)\n",
    "        feats_df = top_mean_feats(vector, features, ids, min_tfidf=min_tfidf, top_n=top_n)\n",
    "        feats_df.label = label\n",
    "        df_feats.append(feats_df)\n",
    "    return df_feats\n",
    "\n",
    "\n",
    "df_feats = top_feats_by_class(tf_idf_vector, yelp_SD_reviews['label'], feature_names)"
   ]
  },
  {
   "cell_type": "markdown",
   "metadata": {},
   "source": [
    "Ploting the top features by label."
   ]
  },
  {
   "cell_type": "code",
   "execution_count": 14,
   "metadata": {},
   "outputs": [
    {
     "data": {
      "image/png": "[encoded data removed]",
      "text/plain": [
       "<Figure size 864x648 with 3 Axes>"
      ]
     },
     "metadata": {},
     "output_type": "display_data"
    }
   ],
   "source": [
    "# Plot the data frames returned by the function plot_tfidf_classfeats().\n",
    "def plot_tfidf_feats(dfs):\n",
    "    fig = plt.figure(figsize=(12, 9), facecolor=\"w\")\n",
    "    x = np.arange(len(dfs[0]))\n",
    "    \n",
    "    # Loop through each class label and create plot\n",
    "    for i, df in enumerate(dfs):\n",
    "        ax = fig.add_subplot(1, len(dfs), i+1)\n",
    "        ax.spines[\"top\"].set_visible(False)\n",
    "        ax.spines[\"right\"].set_visible(False)\n",
    "        ax.set_frame_on(False)\n",
    "        ax.get_xaxis().tick_bottom()\n",
    "        ax.get_yaxis().tick_left()\n",
    "        ax.set_xlabel(\"Mean Tf-Idf Score\", labelpad=16, fontsize=14)\n",
    "        ax.set_title(\"rating = \" + str(df.label), fontsize=16)\n",
    "        ax.ticklabel_format(axis='x', style='sci', scilimits=(-2,2))\n",
    "        ax.barh(x, df.tfidf, align='center', color='#3F5D7D')\n",
    "        ax.set_yticks(x)\n",
    "        ax.set_ylim([-1, x[-1]+1])\n",
    "        yticks = ax.set_yticklabels(df.feature)\n",
    "        plt.subplots_adjust(bottom=0.09, right=0.97, left=0.15, top=0.95, wspace=0.52)\n",
    "    plt.show()\n",
    "    \n",
    "plot_tfidf_feats(df_feats)"
   ]
  },
  {
   "cell_type": "markdown",
   "metadata": {},
   "source": [
    "Then, I extracted testing and training data to see how well the TF-IDF function classified reviews as a check for the functionality of extracting features. Used an SVM classifier to train the data."
   ]
  },
  {
   "cell_type": "code",
   "execution_count": 15,
   "metadata": {},
   "outputs": [],
   "source": [
    "# Carry out classification analysis to check accuracy of TF-IDF\n",
    "yelp_ratings = np.array(yelp_SD_reviews[\"label\"])\n",
    "\n",
    "# Split training and testing data\n",
    "num_training = int(len(yelp_ratings)*0.8)\n",
    "num_testing = len(yelp_ratings)-num_training\n",
    "\n",
    "# Split vector into training and testing\n",
    "yelp_train_X = tf_idf_vector[:num_training]\n",
    "yelp_train_y = yelp_ratings[:num_training]\n",
    "yelp_test_X = tf_idf_vector[num_training:]\n",
    "yelp_test_y = yelp_ratings[num_training:]"
   ]
  },
  {
   "cell_type": "code",
   "execution_count": 16,
   "metadata": {},
   "outputs": [],
   "source": [
    "# Initialize SVM to output trained classifier\n",
    "def train_SVM(X, y, kernel='linear'):\n",
    "    clf = SVC(kernel=kernel)\n",
    "    clf.fit(X, y)\n",
    "    return clf\n",
    "\n",
    "yelp_clf = train_SVM(yelp_train_X, yelp_train_y)\n",
    "yelp_predicted_train_y = yelp_clf.predict(yelp_train_X)\n",
    "yelp_predicted_test_y = yelp_clf.predict(yelp_test_X)"
   ]
  },
  {
   "cell_type": "code",
   "execution_count": 17,
   "metadata": {},
   "outputs": [
    {
     "name": "stdout",
     "output_type": "stream",
     "text": [
      "              precision    recall  f1-score   support\n",
      "\n",
      "    negative       0.99      0.52      0.68       207\n",
      "     neutral       1.00      0.08      0.14       144\n",
      "    positive       0.87      1.00      0.93      1515\n",
      "\n",
      "    accuracy                           0.87      1866\n",
      "   macro avg       0.95      0.53      0.58      1866\n",
      "weighted avg       0.89      0.87      0.84      1866\n",
      "\n"
     ]
    }
   ],
   "source": [
    "print(classification_report(yelp_train_y, yelp_predicted_train_y))"
   ]
  },
  {
   "cell_type": "code",
   "execution_count": 18,
   "metadata": {},
   "outputs": [
    {
     "name": "stdout",
     "output_type": "stream",
     "text": [
      "              precision    recall  f1-score   support\n",
      "\n",
      "    negative       0.86      0.09      0.17        65\n",
      "     neutral       0.00      0.00      0.00        42\n",
      "    positive       0.78      1.00      0.88       360\n",
      "\n",
      "    accuracy                           0.78       467\n",
      "   macro avg       0.55      0.36      0.35       467\n",
      "weighted avg       0.72      0.78      0.70       467\n",
      "\n"
     ]
    }
   ],
   "source": [
    "print(classification_report(yelp_test_y, yelp_predicted_test_y))"
   ]
  },
  {
   "cell_type": "markdown",
   "metadata": {},
   "source": [
    "# Ethics & Privacy"
   ]
  },
  {
   "cell_type": "markdown",
   "metadata": {},
   "source": [
    "Since yelp reviews are public information, it is assumed that the person posting the reviews knows that it will be public and can be accessed by anyone. However, for the data I used, there was no information stating who wrote the review and so it was anonymous. Additionally, for privacy I removed any information about the parks such as phone number and ID, but since those are also publically available people can still access that information.\n",
    "I also only conducted the analysis on parks that were in the San Diego area, so generalizing data to other areas would be inaccurate because of the sample. Lastly, because many of the reviews were quite short, the data may be exaggerated and without correcting for context it might be difficult to completely confirm the results below."
   ]
  },
  {
   "cell_type": "markdown",
   "metadata": {},
   "source": [
    "# Conclusion & Discussion"
   ]
  },
  {
   "cell_type": "markdown",
   "metadata": {},
   "source": [
    "After conducting the TF-IDF analysis and plotting the top most popular features by labels, it is somewhat clear that having certain amenities increases the rating of a park. For reviews that included words like \"dog\", \"playgroud\", \"hike\", \"trail\", \"parking\", \"beach\", \"swings\", \"recreation\", \"restroom\", \"play\", and more typically fell in the neutral to positive range for reviews. Words like \"dog\" and \"play\" imply large open spaces and room for people to bring dogs to roam or their kids to play. Whereas words like \"recreation\", \"trail\", and \"hike\" imply that there are other activities besides sitting and having a picnic that community members can participate. Additionally, words like \"restroom\", \"food\", \"peaceful\", and others imply that there are amenities that provide a relaxing space for community members. The TF-IDF analysis was mostly accurate because after running it on training and testing data it was able to accurately classify reviews based on their label and had a 0.77 accuracy rate. So, the effectiveness of the TF-IDF model can be trusted on this particular dataset. Overall, the TF-IDF analysis showed that these particular words had a higher mean score amongst all the reviews and thus, were a good predictor of whether the review would be positive, negative, or neutral. This shows that adding amenties to parks is correlated to an increase in the ratings that people give that park. A limitation of this study is that a few features were sometime classified wrong. For example, \"dog\" showed up in all three labels (positive, negative, and neutral) meaning that in different contexts having space for \"dogs\" might be negative for some people who are looking for a quieter park. So, outlining amenities provided to the public is also important to encouraging positive reviews as community memebers will visit parks with amenities they prefer."
   ]
  }
 ],
 "metadata": {
  "kernelspec": {
   "display_name": "Python 3",
   "language": "python",
   "name": "python3"
  },
  "language_info": {
   "codemirror_mode": {
    "name": "ipython",
    "version": 3
   },
   "file_extension": ".py",
   "mimetype": "text/x-python",
   "name": "python",
   "nbconvert_exporter": "python",
   "pygments_lexer": "ipython3",
   "version": "3.7.6"
  }
 },
 "nbformat": 4,
 "nbformat_minor": 2
}
