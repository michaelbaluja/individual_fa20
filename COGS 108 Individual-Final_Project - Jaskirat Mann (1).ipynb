{
 "cells": [
  {
   "cell_type": "markdown",
   "metadata": {},
   "source": [
    "# COGS 108 - Final Project"
   ]
  },
  {
   "cell_type": "markdown",
   "metadata": {},
   "source": [
    "# Overview\n",
    "In this project, I wanted to figure out the relationship between a park's size, and its yelp rating. My goal was to see if there was a connection between how big a park is, and whether people like the park. To discover this, I utilyzed data from parks in San Diego and compared the amount of acres a park has to its yelp rating. I found that there is indeed a positive correlation between the size of a park, and how well it is reviewed on yelp, but these two variables are not directly related and is moreso caused by the size of the local population which indirectly affects park size. This analysis is significant because we can use this information to optimise park creation in San Diego by ensuring the best use of space for maximum community satisfaction."
   ]
  },
  {
   "cell_type": "markdown",
   "metadata": {},
   "source": [
    "# Name and GitHub\n",
    "- Name: Jaskirat Mann\n",
    "- GitHub Username: Jess-the-mann"
   ]
  },
  {
   "cell_type": "markdown",
   "metadata": {},
   "source": [
    "# Research Question\n",
    "Does the size of a park in terms of its acres affect that park's yelp rating in San Diego? What is the general amount of acres a park requires to recieve the best rating on yelp?"
   ]
  },
  {
   "cell_type": "markdown",
   "metadata": {},
   "source": [
    "# Background and Prior Work\n",
    "Parks typically have 9.5 acres per 1,000 residents, and a single park per every 2,277 residents within that jurisdiction(1). That means the average park in a normally distributed jurisdiction would be at least 19 acres. This implies that the more people there are in any given jurisdiction, the bigger the park will be, and possibly the more parks. Because of this, there is a risk of bias in terms of yelps ratings due to there being more people available to go to a bigger park as opposed to a smaller one. Understanding this, I will attempt to remedy this by comparing the amount of reviews for a given park with the amount of acres it has. This will show us if there is a significant difference caused by this. That said, San Diego differs in that its system goes by 2.8 acres per 1,000 residents, and its averages are between 21 and 43 acres(2). According to (3), the standard park size with the best results in a community is between 20-50 acres with more prominent parks reaching 100 acres, while large parks have upwards of 400 acres. There are also larger parks that can get to 1,000 acres. By taking into account all these different numbers from different sources, I created a size chart for parks in San Diego where small parks are less than 10 acres, average parks are between 10 and 50 acres, large parks are between 50 and 500 acres, and very large parks are over 500 acres.\n",
    "\n",
    "Parkscore is a score developed by the Trust for Public Land, and is calculated by taking into account the parks median size, investment budget, amenities, and amount of people in range of the park. Since this is a well-known and trusted source, the fact that they factor a parks size into the score emphasizes how important size is for a park's ratings. Through this system, San Diego was placed 2nd in the state and 16th in the nation of park rankings(4). San Diego possessed a parkscore of 69, which factored in a population of 1,392,382 as well as a median park size score of 64 which is on the higher end(5). Since these scores are so close there may be a correlation between the two, potentially implying a positive correlation between park size and rating, but there is not enough evidence here to prove this claim.\n",
    "\n",
    "References:\n",
    "- 1) https://www.moneytalksnews.com/the-best-and-worst-u-s-cities-for-parks/\n",
    "- 2) https://www.sandiego.gov/sites/default/files/navajopopparkstandard.pdf\n",
    "- 3) https://www.planning.org/pas/reports/report194.htm\n",
    "- 4) https://timesofsandiego.com/life/2019/05/22/san-diego-park-system-among-top-20-best-in-u-s-per-new-rankings/\n",
    "- 5) https://www.tpl.org/parkscore/rankings"
   ]
  },
  {
   "cell_type": "markdown",
   "metadata": {},
   "source": [
    "# Hypothesis\n",
    "I hypothesize that there is a positive correlation between the size of a park and its ratings. The larger the park, the better ratings it has; while the smaller the park, the lower the ratings it gets. Larger parks are put in areas with higher populations implying more people go to those park which increases the amount of reviews, saturating the ratings and diminishing their outliers. Meanwhile, smaller parks have less reviews making them vulnerable to outliers as a smaller amount of people visit and therefore review. I also hypothesize the general amount of acres with the best rating results is between 50 and 100 acres. This amount is large enough so reviews are less prone to outliers, while also not being so big that the park becomes too daunting for visitors."
   ]
  },
  {
   "cell_type": "markdown",
   "metadata": {},
   "source": [
    "# Datasets\n",
    "I will be using 3 datasets for this project which were all provided to me by my instructor. 2 of them are from Yelp, including a dataset on Yelp's California Park's user reviews; as well as a dataset for all of Yelp's California Park's locations and information. The other dataset is from the government of San Diego about the location of all San Diego Parks.\n",
    "\n",
    "- Dataset Name: Yelp SD Reviews\n",
    "- Link to the dataset: https://www.yelp.com/developers/documentation/v3/business_reviews\n",
    "- Number of observations: 2,333\n",
    "\n",
    "This dataset includes a handful of user reviews per each park in San Diego.\n",
    "  \n",
    "- Dataset Name: Yelp SD parks\n",
    "- Link to the dataset: https://www.yelp.com/developers/documentation/v3/business_search\n",
    "- Number of observations: 833\n",
    "\n",
    "This dataset provides the information on all parks in San Diego. It includes each park's location along with information pertaining to that park as well as that parks overall rating on Yelp.\n",
    "\n",
    "- Dataset Name: San Diego Park Locations\n",
    "- Link to the dataset: https://data.sandiego.gov/datasets/park-locations/\n",
    "- Number of observations: 2,769\n",
    "\n",
    "This dataset includes various information on all the parks in San Diego which includes their location, the type of park, and the amount of acres that is in each park.\n",
    "\n",
    "I plan to combine all these datasets by merging the name of each park from each dataset. This will allow me to compare the size of each park with its associated rating. Doing this also ensures that the dataset is correct as any parks that are absent from one or all of the datasets will be filtered out, thus making sure that the park in question is indeed a San Diego park."
   ]
  },
  {
   "cell_type": "markdown",
   "metadata": {},
   "source": [
    "# Setup"
   ]
  },
  {
   "cell_type": "code",
   "execution_count": 1,
   "metadata": {},
   "outputs": [],
   "source": [
    "%matplotlib inline\n",
    "import pandas as pd\n",
    "import numpy as np\n",
    "import matplotlib.pyplot as plt\n",
    "import seaborn as sns\n",
    "import geopandas as gpd"
   ]
  },
  {
   "cell_type": "code",
   "execution_count": 2,
   "metadata": {},
   "outputs": [],
   "source": [
    "# Dataset for Yelp San Diego park user reviews\n",
    "yelp_reviews = pd.read_csv('yelp_SD_reviews.csv')\n",
    "\n",
    "# Dataset for Yelp San Diego park information\n",
    "yelp_park = pd.read_csv('yelp_SD_parks.csv')\n",
    "\n",
    "# Dataset for San Diego park location\n",
    "location = gpd.read_file('parks_datasd.geojson')"
   ]
  },
  {
   "cell_type": "markdown",
   "metadata": {},
   "source": [
    "# Data Cleaning"
   ]
  },
  {
   "cell_type": "markdown",
   "metadata": {},
   "source": [
    "## Yelp_reviews"
   ]
  },
  {
   "cell_type": "code",
   "execution_count": 3,
   "metadata": {
    "scrolled": false
   },
   "outputs": [
    {
     "data": {
      "text/html": [
       "<div>\n",
       "<style scoped>\n",
       "    .dataframe tbody tr th:only-of-type {\n",
       "        vertical-align: middle;\n",
       "    }\n",
       "\n",
       "    .dataframe tbody tr th {\n",
       "        vertical-align: top;\n",
       "    }\n",
       "\n",
       "    .dataframe thead th {\n",
       "        text-align: right;\n",
       "    }\n",
       "</style>\n",
       "<table border=\"1\" class=\"dataframe\">\n",
       "  <thead>\n",
       "    <tr style=\"text-align: right;\">\n",
       "      <th></th>\n",
       "      <th>name</th>\n",
       "      <th>user_rating</th>\n",
       "    </tr>\n",
       "  </thead>\n",
       "  <tbody>\n",
       "    <tr>\n",
       "      <th>0</th>\n",
       "      <td>Balboa Park</td>\n",
       "      <td>5</td>\n",
       "    </tr>\n",
       "    <tr>\n",
       "      <th>1</th>\n",
       "      <td>Balboa Park</td>\n",
       "      <td>5</td>\n",
       "    </tr>\n",
       "    <tr>\n",
       "      <th>2</th>\n",
       "      <td>Balboa Park</td>\n",
       "      <td>5</td>\n",
       "    </tr>\n",
       "    <tr>\n",
       "      <th>3</th>\n",
       "      <td>Civita Park</td>\n",
       "      <td>5</td>\n",
       "    </tr>\n",
       "    <tr>\n",
       "      <th>4</th>\n",
       "      <td>Civita Park</td>\n",
       "      <td>5</td>\n",
       "    </tr>\n",
       "    <tr>\n",
       "      <th>...</th>\n",
       "      <td>...</td>\n",
       "      <td>...</td>\n",
       "    </tr>\n",
       "    <tr>\n",
       "      <th>2328</th>\n",
       "      <td>Petco Park</td>\n",
       "      <td>5</td>\n",
       "    </tr>\n",
       "    <tr>\n",
       "      <th>2329</th>\n",
       "      <td>Ann D. L'Heureux Memorial Dog Park</td>\n",
       "      <td>4</td>\n",
       "    </tr>\n",
       "    <tr>\n",
       "      <th>2330</th>\n",
       "      <td>Ann D. L'Heureux Memorial Dog Park</td>\n",
       "      <td>3</td>\n",
       "    </tr>\n",
       "    <tr>\n",
       "      <th>2331</th>\n",
       "      <td>Ann D. L'Heureux Memorial Dog Park</td>\n",
       "      <td>3</td>\n",
       "    </tr>\n",
       "    <tr>\n",
       "      <th>2332</th>\n",
       "      <td>Fairbrook Farm</td>\n",
       "      <td>5</td>\n",
       "    </tr>\n",
       "  </tbody>\n",
       "</table>\n",
       "<p>2333 rows × 2 columns</p>\n",
       "</div>"
      ],
      "text/plain": [
       "                                    name  user_rating\n",
       "0                            Balboa Park            5\n",
       "1                            Balboa Park            5\n",
       "2                            Balboa Park            5\n",
       "3                            Civita Park            5\n",
       "4                            Civita Park            5\n",
       "...                                  ...          ...\n",
       "2328                          Petco Park            5\n",
       "2329  Ann D. L'Heureux Memorial Dog Park            4\n",
       "2330  Ann D. L'Heureux Memorial Dog Park            3\n",
       "2331  Ann D. L'Heureux Memorial Dog Park            3\n",
       "2332                      Fairbrook Farm            5\n",
       "\n",
       "[2333 rows x 2 columns]"
      ]
     },
     "execution_count": 3,
     "metadata": {},
     "output_type": "execute_result"
    }
   ],
   "source": [
    "# Renaming columns for merging with other datasets and dropping irrelevant ones.\n",
    "yelp_reviews = yelp_reviews.rename(columns={'id': 'name','rating':'user_rating'})\n",
    "yelp_reviews = yelp_reviews.drop(columns = ['text'])\n",
    "\n",
    "yelp_reviews"
   ]
  },
  {
   "cell_type": "markdown",
   "metadata": {},
   "source": [
    "## Yelp_park"
   ]
  },
  {
   "cell_type": "code",
   "execution_count": 4,
   "metadata": {},
   "outputs": [
    {
     "data": {
      "text/plain": [
       "False    818\n",
       "True      15\n",
       "dtype: int64"
      ]
     },
     "execution_count": 4,
     "metadata": {},
     "output_type": "execute_result"
    }
   ],
   "source": [
    "yelp_park.duplicated(subset = 'name').value_counts()"
   ]
  },
  {
   "cell_type": "markdown",
   "metadata": {},
   "source": [
    "I used yelp_park.duplicated(subset = 'name').value_counts() in order to check for any duplicates in the dataset. The result was that there were 15 duplicate rows, meaning the true amount of observations in this dataset is 818 rather than 833. These duplicate rows, however, were most importantly seperating the amount of reviews for the same park into different rows, so I could not simply remove the duplicate rows as that would affect the total amount of yelp reviews each park had. To fix this, I added the duplicated rows review counts together for those parks to return them to their original value."
   ]
  },
  {
   "cell_type": "code",
   "execution_count": 5,
   "metadata": {
    "scrolled": false
   },
   "outputs": [
    {
     "data": {
      "text/html": [
       "<div>\n",
       "<style scoped>\n",
       "    .dataframe tbody tr th:only-of-type {\n",
       "        vertical-align: middle;\n",
       "    }\n",
       "\n",
       "    .dataframe tbody tr th {\n",
       "        vertical-align: top;\n",
       "    }\n",
       "\n",
       "    .dataframe thead th {\n",
       "        text-align: right;\n",
       "    }\n",
       "</style>\n",
       "<table border=\"1\" class=\"dataframe\">\n",
       "  <thead>\n",
       "    <tr style=\"text-align: right;\">\n",
       "      <th></th>\n",
       "      <th>name</th>\n",
       "      <th>review_count</th>\n",
       "      <th>rating</th>\n",
       "    </tr>\n",
       "  </thead>\n",
       "  <tbody>\n",
       "    <tr>\n",
       "      <th>0</th>\n",
       "      <td>13th &amp; Market</td>\n",
       "      <td>85</td>\n",
       "      <td>3.5</td>\n",
       "    </tr>\n",
       "    <tr>\n",
       "      <th>1</th>\n",
       "      <td>1935 Cactus Garden</td>\n",
       "      <td>1</td>\n",
       "      <td>5.0</td>\n",
       "    </tr>\n",
       "    <tr>\n",
       "      <th>2</th>\n",
       "      <td>4S Patriot Park</td>\n",
       "      <td>16</td>\n",
       "      <td>4.5</td>\n",
       "    </tr>\n",
       "    <tr>\n",
       "      <th>3</th>\n",
       "      <td>4S Ranch Community Park</td>\n",
       "      <td>17</td>\n",
       "      <td>5.0</td>\n",
       "    </tr>\n",
       "    <tr>\n",
       "      <th>4</th>\n",
       "      <td>5 Star Dealer School</td>\n",
       "      <td>1</td>\n",
       "      <td>5.0</td>\n",
       "    </tr>\n",
       "    <tr>\n",
       "      <th>...</th>\n",
       "      <td>...</td>\n",
       "      <td>...</td>\n",
       "      <td>...</td>\n",
       "    </tr>\n",
       "    <tr>\n",
       "      <th>813</th>\n",
       "      <td>Windwood Park</td>\n",
       "      <td>3</td>\n",
       "      <td>3.5</td>\n",
       "    </tr>\n",
       "    <tr>\n",
       "      <th>814</th>\n",
       "      <td>Working Class</td>\n",
       "      <td>498</td>\n",
       "      <td>4.5</td>\n",
       "    </tr>\n",
       "    <tr>\n",
       "      <th>815</th>\n",
       "      <td>You &amp; Yours Distilling Co</td>\n",
       "      <td>185</td>\n",
       "      <td>5.0</td>\n",
       "    </tr>\n",
       "    <tr>\n",
       "      <th>816</th>\n",
       "      <td>Zeglio Custom Clothiers</td>\n",
       "      <td>76</td>\n",
       "      <td>5.0</td>\n",
       "    </tr>\n",
       "    <tr>\n",
       "      <th>817</th>\n",
       "      <td>Zoro Garden</td>\n",
       "      <td>11</td>\n",
       "      <td>4.0</td>\n",
       "    </tr>\n",
       "  </tbody>\n",
       "</table>\n",
       "<p>818 rows × 3 columns</p>\n",
       "</div>"
      ],
      "text/plain": [
       "                          name  review_count  rating\n",
       "0                13th & Market            85     3.5\n",
       "1           1935 Cactus Garden             1     5.0\n",
       "2              4S Patriot Park            16     4.5\n",
       "3      4S Ranch Community Park            17     5.0\n",
       "4         5 Star Dealer School             1     5.0\n",
       "..                         ...           ...     ...\n",
       "813              Windwood Park             3     3.5\n",
       "814              Working Class           498     4.5\n",
       "815  You & Yours Distilling Co           185     5.0\n",
       "816    Zeglio Custom Clothiers            76     5.0\n",
       "817                Zoro Garden            11     4.0\n",
       "\n",
       "[818 rows x 3 columns]"
      ]
     },
     "execution_count": 5,
     "metadata": {},
     "output_type": "execute_result"
    }
   ],
   "source": [
    "# Removing irrelevant columns for cleaner data and better merging.\n",
    "yelp_park = yelp_park.drop(columns = ['address','phone','id','url','longitude','latitude','is_closed'])\n",
    "\n",
    "# In order to keep the rating the same, I create a seperate dataset for it while removing it from the original\n",
    "# so that when I take the sum, the ratings will not erroneously get added together as well. \n",
    "yelp_park_rating_df = yelp_park.drop(columns = ['review_count'])\n",
    "yelp_park = yelp_park.drop(columns = ['rating'])\n",
    "\n",
    "# Drop the duplicate values so it can be merged back to yelp_park without missing variables\n",
    "yelp_park_rating_df = yelp_park_rating_df.drop_duplicates(subset = 'name',keep = 'first')\n",
    "\n",
    "# Add the duplicate rows together\n",
    "yelp_park = yelp_park.groupby(['name']).sum().reset_index()\n",
    "\n",
    "# Merge the two datasets back together.\n",
    "yelp_park = pd.merge(yelp_park, yelp_park_rating_df, on = 'name')\n",
    "\n",
    "yelp_park"
   ]
  },
  {
   "cell_type": "markdown",
   "metadata": {},
   "source": [
    "## Yelp"
   ]
  },
  {
   "cell_type": "code",
   "execution_count": 6,
   "metadata": {},
   "outputs": [
    {
     "data": {
      "text/html": [
       "<div>\n",
       "<style scoped>\n",
       "    .dataframe tbody tr th:only-of-type {\n",
       "        vertical-align: middle;\n",
       "    }\n",
       "\n",
       "    .dataframe tbody tr th {\n",
       "        vertical-align: top;\n",
       "    }\n",
       "\n",
       "    .dataframe thead th {\n",
       "        text-align: right;\n",
       "    }\n",
       "</style>\n",
       "<table border=\"1\" class=\"dataframe\">\n",
       "  <thead>\n",
       "    <tr style=\"text-align: right;\">\n",
       "      <th></th>\n",
       "      <th>name</th>\n",
       "      <th>review_count</th>\n",
       "      <th>user_rating</th>\n",
       "      <th>rating</th>\n",
       "    </tr>\n",
       "  </thead>\n",
       "  <tbody>\n",
       "    <tr>\n",
       "      <th>0</th>\n",
       "      <td>Balboa Park</td>\n",
       "      <td>2105</td>\n",
       "      <td>5</td>\n",
       "      <td>5.0</td>\n",
       "    </tr>\n",
       "    <tr>\n",
       "      <th>1</th>\n",
       "      <td>Balboa Park</td>\n",
       "      <td>2105</td>\n",
       "      <td>5</td>\n",
       "      <td>5.0</td>\n",
       "    </tr>\n",
       "    <tr>\n",
       "      <th>2</th>\n",
       "      <td>Balboa Park</td>\n",
       "      <td>2105</td>\n",
       "      <td>5</td>\n",
       "      <td>5.0</td>\n",
       "    </tr>\n",
       "    <tr>\n",
       "      <th>3</th>\n",
       "      <td>Civita Park</td>\n",
       "      <td>46</td>\n",
       "      <td>5</td>\n",
       "      <td>4.5</td>\n",
       "    </tr>\n",
       "    <tr>\n",
       "      <th>4</th>\n",
       "      <td>Civita Park</td>\n",
       "      <td>46</td>\n",
       "      <td>5</td>\n",
       "      <td>4.5</td>\n",
       "    </tr>\n",
       "    <tr>\n",
       "      <th>...</th>\n",
       "      <td>...</td>\n",
       "      <td>...</td>\n",
       "      <td>...</td>\n",
       "      <td>...</td>\n",
       "    </tr>\n",
       "    <tr>\n",
       "      <th>2328</th>\n",
       "      <td>Petco Park</td>\n",
       "      <td>1667</td>\n",
       "      <td>5</td>\n",
       "      <td>4.0</td>\n",
       "    </tr>\n",
       "    <tr>\n",
       "      <th>2329</th>\n",
       "      <td>Ann D. L'Heureux Memorial Dog Park</td>\n",
       "      <td>50</td>\n",
       "      <td>4</td>\n",
       "      <td>3.0</td>\n",
       "    </tr>\n",
       "    <tr>\n",
       "      <th>2330</th>\n",
       "      <td>Ann D. L'Heureux Memorial Dog Park</td>\n",
       "      <td>50</td>\n",
       "      <td>3</td>\n",
       "      <td>3.0</td>\n",
       "    </tr>\n",
       "    <tr>\n",
       "      <th>2331</th>\n",
       "      <td>Ann D. L'Heureux Memorial Dog Park</td>\n",
       "      <td>50</td>\n",
       "      <td>3</td>\n",
       "      <td>3.0</td>\n",
       "    </tr>\n",
       "    <tr>\n",
       "      <th>2332</th>\n",
       "      <td>Fairbrook Farm</td>\n",
       "      <td>1</td>\n",
       "      <td>5</td>\n",
       "      <td>5.0</td>\n",
       "    </tr>\n",
       "  </tbody>\n",
       "</table>\n",
       "<p>2333 rows × 4 columns</p>\n",
       "</div>"
      ],
      "text/plain": [
       "                                    name  review_count  user_rating  rating\n",
       "0                            Balboa Park          2105            5     5.0\n",
       "1                            Balboa Park          2105            5     5.0\n",
       "2                            Balboa Park          2105            5     5.0\n",
       "3                            Civita Park            46            5     4.5\n",
       "4                            Civita Park            46            5     4.5\n",
       "...                                  ...           ...          ...     ...\n",
       "2328                          Petco Park          1667            5     4.0\n",
       "2329  Ann D. L'Heureux Memorial Dog Park            50            4     3.0\n",
       "2330  Ann D. L'Heureux Memorial Dog Park            50            3     3.0\n",
       "2331  Ann D. L'Heureux Memorial Dog Park            50            3     3.0\n",
       "2332                      Fairbrook Farm             1            5     5.0\n",
       "\n",
       "[2333 rows x 4 columns]"
      ]
     },
     "execution_count": 6,
     "metadata": {},
     "output_type": "execute_result"
    }
   ],
   "source": [
    "# Merge both Yelp datasets together for a dataframe that includes the user reviews as well.\n",
    "yelp = pd.merge(yelp_reviews, yelp_park, on = 'name')\n",
    "yelp = yelp[['name','review_count','user_rating','rating']]\n",
    "\n",
    "yelp"
   ]
  },
  {
   "cell_type": "markdown",
   "metadata": {},
   "source": [
    "## Location"
   ]
  },
  {
   "cell_type": "code",
   "execution_count": 7,
   "metadata": {
    "scrolled": false
   },
   "outputs": [
    {
     "data": {
      "text/html": [
       "<div>\n",
       "<style scoped>\n",
       "    .dataframe tbody tr th:only-of-type {\n",
       "        vertical-align: middle;\n",
       "    }\n",
       "\n",
       "    .dataframe tbody tr th {\n",
       "        vertical-align: top;\n",
       "    }\n",
       "\n",
       "    .dataframe thead th {\n",
       "        text-align: right;\n",
       "    }\n",
       "</style>\n",
       "<table border=\"1\" class=\"dataframe\">\n",
       "  <thead>\n",
       "    <tr style=\"text-align: right;\">\n",
       "      <th></th>\n",
       "      <th>name</th>\n",
       "      <th>acres</th>\n",
       "    </tr>\n",
       "  </thead>\n",
       "  <tbody>\n",
       "    <tr>\n",
       "      <th>0</th>\n",
       "      <td>South Carlsbad State Beach</td>\n",
       "      <td>115.895878</td>\n",
       "    </tr>\n",
       "    <tr>\n",
       "      <th>1</th>\n",
       "      <td>Torrey Pines State Beach</td>\n",
       "      <td>67.294309</td>\n",
       "    </tr>\n",
       "    <tr>\n",
       "      <th>2</th>\n",
       "      <td>Ruocco Park</td>\n",
       "      <td>3.312526</td>\n",
       "    </tr>\n",
       "    <tr>\n",
       "      <th>3</th>\n",
       "      <td>Tuna Harbor Park</td>\n",
       "      <td>0.639035</td>\n",
       "    </tr>\n",
       "    <tr>\n",
       "      <th>4</th>\n",
       "      <td>San Diego Bayfront Park</td>\n",
       "      <td>3.669272</td>\n",
       "    </tr>\n",
       "    <tr>\n",
       "      <th>...</th>\n",
       "      <td>...</td>\n",
       "      <td>...</td>\n",
       "    </tr>\n",
       "    <tr>\n",
       "      <th>2764</th>\n",
       "      <td>San Luis Rey River Park</td>\n",
       "      <td>712.262117</td>\n",
       "    </tr>\n",
       "    <tr>\n",
       "      <th>2765</th>\n",
       "      <td>Horse Creek Ridge Sports Park</td>\n",
       "      <td>8.398529</td>\n",
       "    </tr>\n",
       "    <tr>\n",
       "      <th>2766</th>\n",
       "      <td>Harmony Grove Village 4th of July Park</td>\n",
       "      <td>2.510408</td>\n",
       "    </tr>\n",
       "    <tr>\n",
       "      <th>2767</th>\n",
       "      <td>Harmony Grove Village Community Park</td>\n",
       "      <td>3.575260</td>\n",
       "    </tr>\n",
       "    <tr>\n",
       "      <th>2768</th>\n",
       "      <td>Harmony Grove Village Equestrian Park</td>\n",
       "      <td>3.647259</td>\n",
       "    </tr>\n",
       "  </tbody>\n",
       "</table>\n",
       "<p>2769 rows × 2 columns</p>\n",
       "</div>"
      ],
      "text/plain": [
       "                                        name       acres\n",
       "0                 South Carlsbad State Beach  115.895878\n",
       "1                   Torrey Pines State Beach   67.294309\n",
       "2                                Ruocco Park    3.312526\n",
       "3                           Tuna Harbor Park    0.639035\n",
       "4                    San Diego Bayfront Park    3.669272\n",
       "...                                      ...         ...\n",
       "2764                 San Luis Rey River Park  712.262117\n",
       "2765           Horse Creek Ridge Sports Park    8.398529\n",
       "2766  Harmony Grove Village 4th of July Park    2.510408\n",
       "2767    Harmony Grove Village Community Park    3.575260\n",
       "2768   Harmony Grove Village Equestrian Park    3.647259\n",
       "\n",
       "[2769 rows x 2 columns]"
      ]
     },
     "execution_count": 7,
     "metadata": {},
     "output_type": "execute_result"
    }
   ],
   "source": [
    "# Dropped irrelevant columns and renamed others in order to clean up the data and prepare it to merge.\n",
    "location = location.drop(columns = ['objectid','name','park_type','location','owner','geometry'])\n",
    "location = location.rename(columns={'alias':'name','gis_acres':'acres'})\n",
    "location"
   ]
  },
  {
   "cell_type": "code",
   "execution_count": 8,
   "metadata": {},
   "outputs": [
    {
     "data": {
      "text/plain": [
       "Los Penasquitos Canyon Open Space    176\n",
       "Canyon Hills Open Space              125\n",
       "Mission Trails Open Space            121\n",
       "Scripps Miramar Open Space           120\n",
       "34th St Canyon Open Space            108\n",
       "                                    ... \n",
       "Nestor Park                            1\n",
       "Rho Mission Cyn Park                   1\n",
       "Lake Poway Park                        1\n",
       "South Oceanside School Park            1\n",
       "Monroe Street Pool                     1\n",
       "Name: name, Length: 956, dtype: int64"
      ]
     },
     "execution_count": 8,
     "metadata": {},
     "output_type": "execute_result"
    }
   ],
   "source": [
    "# Doing the following operation reveals that we have several duplicates\n",
    "location['name'].value_counts()\n",
    "# Sense the number of duplicates is so large, this would especially interfere with our data due to an \n",
    "# increased amount of false ratings when we merge locations with yelp's parks.\n",
    "# After analyzing the dataset I discovered the source of the problem. \n",
    "# The location dataset randomly divides parks by splitting up the parks acres into smaller pieces.\n",
    "# In order to fix this, I first identified all the duplicates, then summed the values of each parks acres in order to \n",
    "# return the parks acres to its correct state\n"
   ]
  },
  {
   "cell_type": "code",
   "execution_count": 9,
   "metadata": {},
   "outputs": [
    {
     "data": {
      "text/html": [
       "<div>\n",
       "<style scoped>\n",
       "    .dataframe tbody tr th:only-of-type {\n",
       "        vertical-align: middle;\n",
       "    }\n",
       "\n",
       "    .dataframe tbody tr th {\n",
       "        vertical-align: top;\n",
       "    }\n",
       "\n",
       "    .dataframe thead th {\n",
       "        text-align: right;\n",
       "    }\n",
       "</style>\n",
       "<table border=\"1\" class=\"dataframe\">\n",
       "  <thead>\n",
       "    <tr style=\"text-align: right;\">\n",
       "      <th></th>\n",
       "      <th>name</th>\n",
       "      <th>acres</th>\n",
       "    </tr>\n",
       "  </thead>\n",
       "  <tbody>\n",
       "    <tr>\n",
       "      <th>0</th>\n",
       "      <td>4S Ranch Community Park</td>\n",
       "      <td>3.241830</td>\n",
       "    </tr>\n",
       "    <tr>\n",
       "      <th>1</th>\n",
       "      <td>Ashley Falls Park</td>\n",
       "      <td>11.660442</td>\n",
       "    </tr>\n",
       "    <tr>\n",
       "      <th>2</th>\n",
       "      <td>Balboa Park</td>\n",
       "      <td>1089.476460</td>\n",
       "    </tr>\n",
       "    <tr>\n",
       "      <th>3</th>\n",
       "      <td>Big Rock Park</td>\n",
       "      <td>5.674329</td>\n",
       "    </tr>\n",
       "    <tr>\n",
       "      <th>4</th>\n",
       "      <td>Black Mountain Open Space Park</td>\n",
       "      <td>2366.775467</td>\n",
       "    </tr>\n",
       "    <tr>\n",
       "      <th>...</th>\n",
       "      <td>...</td>\n",
       "      <td>...</td>\n",
       "    </tr>\n",
       "    <tr>\n",
       "      <th>105</th>\n",
       "      <td>Vista Pacifica Park</td>\n",
       "      <td>6.872379</td>\n",
       "    </tr>\n",
       "    <tr>\n",
       "      <th>106</th>\n",
       "      <td>Waterfront Park</td>\n",
       "      <td>12.693865</td>\n",
       "    </tr>\n",
       "    <tr>\n",
       "      <th>107</th>\n",
       "      <td>Western Hills Park</td>\n",
       "      <td>12.823290</td>\n",
       "    </tr>\n",
       "    <tr>\n",
       "      <th>108</th>\n",
       "      <td>Westview Park</td>\n",
       "      <td>8.645989</td>\n",
       "    </tr>\n",
       "    <tr>\n",
       "      <th>109</th>\n",
       "      <td>Windwood Park</td>\n",
       "      <td>1.173010</td>\n",
       "    </tr>\n",
       "  </tbody>\n",
       "</table>\n",
       "<p>110 rows × 2 columns</p>\n",
       "</div>"
      ],
      "text/plain": [
       "                               name        acres\n",
       "0           4S Ranch Community Park     3.241830\n",
       "1                 Ashley Falls Park    11.660442\n",
       "2                       Balboa Park  1089.476460\n",
       "3                     Big Rock Park     5.674329\n",
       "4    Black Mountain Open Space Park  2366.775467\n",
       "..                              ...          ...\n",
       "105             Vista Pacifica Park     6.872379\n",
       "106                 Waterfront Park    12.693865\n",
       "107              Western Hills Park    12.823290\n",
       "108                   Westview Park     8.645989\n",
       "109                   Windwood Park     1.173010\n",
       "\n",
       "[110 rows x 2 columns]"
      ]
     },
     "execution_count": 9,
     "metadata": {},
     "output_type": "execute_result"
    }
   ],
   "source": [
    "# First I merged the location with yelp_park in order to filter out all the parks that don't have ratings.\n",
    "location = pd.merge(location, yelp_park, on = 'name')\n",
    "\n",
    "# Drop columns so they don't get summed up as well allowing me to later merge again with yelp_park\n",
    "location = location.drop(columns = ['rating','review_count'])\n",
    "\n",
    "# Add duplicates\n",
    "location = location.groupby(['name']).sum().reset_index()\n",
    "\n",
    "location"
   ]
  },
  {
   "cell_type": "markdown",
   "metadata": {},
   "source": [
    "In order to analyze the data more efficiently, I created a function that will allow me to make categorical data based on the amount of acres a park has. These categories are based on my park size scale I created in the background and prior works section"
   ]
  },
  {
   "cell_type": "code",
   "execution_count": 10,
   "metadata": {},
   "outputs": [],
   "source": [
    "def convert_size(acres):\n",
    "    acres = round(acres)\n",
    "    try:\n",
    "        if acres < 10:\n",
    "            value = 'small'\n",
    "        elif 10 <= acres <= 50:\n",
    "            value = 'average'\n",
    "        elif 51 <= acres <= 500:\n",
    "            value = 'large'\n",
    "        else:\n",
    "            value = 'very large'\n",
    "    except:\n",
    "        value = np.nan\n",
    "    return value"
   ]
  },
  {
   "cell_type": "code",
   "execution_count": 11,
   "metadata": {},
   "outputs": [
    {
     "data": {
      "text/html": [
       "<div>\n",
       "<style scoped>\n",
       "    .dataframe tbody tr th:only-of-type {\n",
       "        vertical-align: middle;\n",
       "    }\n",
       "\n",
       "    .dataframe tbody tr th {\n",
       "        vertical-align: top;\n",
       "    }\n",
       "\n",
       "    .dataframe thead th {\n",
       "        text-align: right;\n",
       "    }\n",
       "</style>\n",
       "<table border=\"1\" class=\"dataframe\">\n",
       "  <thead>\n",
       "    <tr style=\"text-align: right;\">\n",
       "      <th></th>\n",
       "      <th>name</th>\n",
       "      <th>acres</th>\n",
       "      <th>park_size</th>\n",
       "    </tr>\n",
       "  </thead>\n",
       "  <tbody>\n",
       "    <tr>\n",
       "      <th>0</th>\n",
       "      <td>4S Ranch Community Park</td>\n",
       "      <td>3.241830</td>\n",
       "      <td>small</td>\n",
       "    </tr>\n",
       "    <tr>\n",
       "      <th>1</th>\n",
       "      <td>Ashley Falls Park</td>\n",
       "      <td>11.660442</td>\n",
       "      <td>average</td>\n",
       "    </tr>\n",
       "    <tr>\n",
       "      <th>2</th>\n",
       "      <td>Balboa Park</td>\n",
       "      <td>1089.476460</td>\n",
       "      <td>very large</td>\n",
       "    </tr>\n",
       "    <tr>\n",
       "      <th>3</th>\n",
       "      <td>Big Rock Park</td>\n",
       "      <td>5.674329</td>\n",
       "      <td>small</td>\n",
       "    </tr>\n",
       "    <tr>\n",
       "      <th>4</th>\n",
       "      <td>Black Mountain Open Space Park</td>\n",
       "      <td>2366.775467</td>\n",
       "      <td>very large</td>\n",
       "    </tr>\n",
       "    <tr>\n",
       "      <th>...</th>\n",
       "      <td>...</td>\n",
       "      <td>...</td>\n",
       "      <td>...</td>\n",
       "    </tr>\n",
       "    <tr>\n",
       "      <th>105</th>\n",
       "      <td>Vista Pacifica Park</td>\n",
       "      <td>6.872379</td>\n",
       "      <td>small</td>\n",
       "    </tr>\n",
       "    <tr>\n",
       "      <th>106</th>\n",
       "      <td>Waterfront Park</td>\n",
       "      <td>12.693865</td>\n",
       "      <td>average</td>\n",
       "    </tr>\n",
       "    <tr>\n",
       "      <th>107</th>\n",
       "      <td>Western Hills Park</td>\n",
       "      <td>12.823290</td>\n",
       "      <td>average</td>\n",
       "    </tr>\n",
       "    <tr>\n",
       "      <th>108</th>\n",
       "      <td>Westview Park</td>\n",
       "      <td>8.645989</td>\n",
       "      <td>small</td>\n",
       "    </tr>\n",
       "    <tr>\n",
       "      <th>109</th>\n",
       "      <td>Windwood Park</td>\n",
       "      <td>1.173010</td>\n",
       "      <td>small</td>\n",
       "    </tr>\n",
       "  </tbody>\n",
       "</table>\n",
       "<p>110 rows × 3 columns</p>\n",
       "</div>"
      ],
      "text/plain": [
       "                               name        acres   park_size\n",
       "0           4S Ranch Community Park     3.241830       small\n",
       "1                 Ashley Falls Park    11.660442     average\n",
       "2                       Balboa Park  1089.476460  very large\n",
       "3                     Big Rock Park     5.674329       small\n",
       "4    Black Mountain Open Space Park  2366.775467  very large\n",
       "..                              ...          ...         ...\n",
       "105             Vista Pacifica Park     6.872379       small\n",
       "106                 Waterfront Park    12.693865     average\n",
       "107              Western Hills Park    12.823290     average\n",
       "108                   Westview Park     8.645989       small\n",
       "109                   Windwood Park     1.173010       small\n",
       "\n",
       "[110 rows x 3 columns]"
      ]
     },
     "execution_count": 11,
     "metadata": {},
     "output_type": "execute_result"
    }
   ],
   "source": [
    "# Create a new column with the results\n",
    "location['park_size'] = location['acres'].apply(convert_size)\n",
    "\n",
    "location"
   ]
  },
  {
   "cell_type": "markdown",
   "metadata": {},
   "source": [
    "## Ratings_size & All_reviews_size"
   ]
  },
  {
   "cell_type": "markdown",
   "metadata": {},
   "source": [
    "Now I finally merge all my datasets into two seperate dataframes: One without the user ratings, and one with the user ratings. This is because incorporating all the user ratings skews the data analysis when analyzing all other variables due to nature of having multiple different reviews to the same park location. Not doing this results in data wrongfully having larger values in the analysis sense the analysis will count all the duplicates as a new value, rather than multiple values for one location."
   ]
  },
  {
   "cell_type": "code",
   "execution_count": 12,
   "metadata": {},
   "outputs": [
    {
     "data": {
      "text/html": [
       "<div>\n",
       "<style scoped>\n",
       "    .dataframe tbody tr th:only-of-type {\n",
       "        vertical-align: middle;\n",
       "    }\n",
       "\n",
       "    .dataframe tbody tr th {\n",
       "        vertical-align: top;\n",
       "    }\n",
       "\n",
       "    .dataframe thead th {\n",
       "        text-align: right;\n",
       "    }\n",
       "</style>\n",
       "<table border=\"1\" class=\"dataframe\">\n",
       "  <thead>\n",
       "    <tr style=\"text-align: right;\">\n",
       "      <th></th>\n",
       "      <th>name</th>\n",
       "      <th>acres</th>\n",
       "      <th>park_size</th>\n",
       "      <th>review_count</th>\n",
       "      <th>rating</th>\n",
       "    </tr>\n",
       "  </thead>\n",
       "  <tbody>\n",
       "    <tr>\n",
       "      <th>0</th>\n",
       "      <td>4S Ranch Community Park</td>\n",
       "      <td>3.241830</td>\n",
       "      <td>small</td>\n",
       "      <td>17</td>\n",
       "      <td>5.0</td>\n",
       "    </tr>\n",
       "    <tr>\n",
       "      <th>1</th>\n",
       "      <td>Ashley Falls Park</td>\n",
       "      <td>11.660442</td>\n",
       "      <td>average</td>\n",
       "      <td>2</td>\n",
       "      <td>4.5</td>\n",
       "    </tr>\n",
       "    <tr>\n",
       "      <th>2</th>\n",
       "      <td>Balboa Park</td>\n",
       "      <td>1089.476460</td>\n",
       "      <td>very large</td>\n",
       "      <td>2105</td>\n",
       "      <td>5.0</td>\n",
       "    </tr>\n",
       "    <tr>\n",
       "      <th>3</th>\n",
       "      <td>Big Rock Park</td>\n",
       "      <td>5.674329</td>\n",
       "      <td>small</td>\n",
       "      <td>31</td>\n",
       "      <td>4.5</td>\n",
       "    </tr>\n",
       "    <tr>\n",
       "      <th>4</th>\n",
       "      <td>Black Mountain Open Space Park</td>\n",
       "      <td>2366.775467</td>\n",
       "      <td>very large</td>\n",
       "      <td>48</td>\n",
       "      <td>4.0</td>\n",
       "    </tr>\n",
       "    <tr>\n",
       "      <th>...</th>\n",
       "      <td>...</td>\n",
       "      <td>...</td>\n",
       "      <td>...</td>\n",
       "      <td>...</td>\n",
       "      <td>...</td>\n",
       "    </tr>\n",
       "    <tr>\n",
       "      <th>105</th>\n",
       "      <td>Vista Pacifica Park</td>\n",
       "      <td>6.872379</td>\n",
       "      <td>small</td>\n",
       "      <td>1</td>\n",
       "      <td>4.0</td>\n",
       "    </tr>\n",
       "    <tr>\n",
       "      <th>106</th>\n",
       "      <td>Waterfront Park</td>\n",
       "      <td>12.693865</td>\n",
       "      <td>average</td>\n",
       "      <td>242</td>\n",
       "      <td>4.5</td>\n",
       "    </tr>\n",
       "    <tr>\n",
       "      <th>107</th>\n",
       "      <td>Western Hills Park</td>\n",
       "      <td>12.823290</td>\n",
       "      <td>average</td>\n",
       "      <td>22</td>\n",
       "      <td>3.5</td>\n",
       "    </tr>\n",
       "    <tr>\n",
       "      <th>108</th>\n",
       "      <td>Westview Park</td>\n",
       "      <td>8.645989</td>\n",
       "      <td>small</td>\n",
       "      <td>7</td>\n",
       "      <td>3.5</td>\n",
       "    </tr>\n",
       "    <tr>\n",
       "      <th>109</th>\n",
       "      <td>Windwood Park</td>\n",
       "      <td>1.173010</td>\n",
       "      <td>small</td>\n",
       "      <td>3</td>\n",
       "      <td>3.5</td>\n",
       "    </tr>\n",
       "  </tbody>\n",
       "</table>\n",
       "<p>110 rows × 5 columns</p>\n",
       "</div>"
      ],
      "text/plain": [
       "                               name        acres   park_size  review_count  \\\n",
       "0           4S Ranch Community Park     3.241830       small            17   \n",
       "1                 Ashley Falls Park    11.660442     average             2   \n",
       "2                       Balboa Park  1089.476460  very large          2105   \n",
       "3                     Big Rock Park     5.674329       small            31   \n",
       "4    Black Mountain Open Space Park  2366.775467  very large            48   \n",
       "..                              ...          ...         ...           ...   \n",
       "105             Vista Pacifica Park     6.872379       small             1   \n",
       "106                 Waterfront Park    12.693865     average           242   \n",
       "107              Western Hills Park    12.823290     average            22   \n",
       "108                   Westview Park     8.645989       small             7   \n",
       "109                   Windwood Park     1.173010       small             3   \n",
       "\n",
       "     rating  \n",
       "0       5.0  \n",
       "1       4.5  \n",
       "2       5.0  \n",
       "3       4.5  \n",
       "4       4.0  \n",
       "..      ...  \n",
       "105     4.0  \n",
       "106     4.5  \n",
       "107     3.5  \n",
       "108     3.5  \n",
       "109     3.5  \n",
       "\n",
       "[110 rows x 5 columns]"
      ]
     },
     "execution_count": 12,
     "metadata": {},
     "output_type": "execute_result"
    }
   ],
   "source": [
    "# Create a new dataframe by merging location and yelp_park to get one that can compare each park's size and rating\n",
    "ratings_size = pd.merge(location, yelp_park, on = 'name')\n",
    "\n",
    "ratings_size"
   ]
  },
  {
   "cell_type": "code",
   "execution_count": 13,
   "metadata": {},
   "outputs": [
    {
     "data": {
      "text/html": [
       "<div>\n",
       "<style scoped>\n",
       "    .dataframe tbody tr th:only-of-type {\n",
       "        vertical-align: middle;\n",
       "    }\n",
       "\n",
       "    .dataframe tbody tr th {\n",
       "        vertical-align: top;\n",
       "    }\n",
       "\n",
       "    .dataframe thead th {\n",
       "        text-align: right;\n",
       "    }\n",
       "</style>\n",
       "<table border=\"1\" class=\"dataframe\">\n",
       "  <thead>\n",
       "    <tr style=\"text-align: right;\">\n",
       "      <th></th>\n",
       "      <th>name</th>\n",
       "      <th>acres</th>\n",
       "      <th>park_size</th>\n",
       "      <th>review_count</th>\n",
       "      <th>user_rating</th>\n",
       "      <th>rating</th>\n",
       "    </tr>\n",
       "  </thead>\n",
       "  <tbody>\n",
       "    <tr>\n",
       "      <th>0</th>\n",
       "      <td>4S Ranch Community Park</td>\n",
       "      <td>3.241830</td>\n",
       "      <td>small</td>\n",
       "      <td>17</td>\n",
       "      <td>5</td>\n",
       "      <td>5.0</td>\n",
       "    </tr>\n",
       "    <tr>\n",
       "      <th>1</th>\n",
       "      <td>4S Ranch Community Park</td>\n",
       "      <td>3.241830</td>\n",
       "      <td>small</td>\n",
       "      <td>17</td>\n",
       "      <td>4</td>\n",
       "      <td>5.0</td>\n",
       "    </tr>\n",
       "    <tr>\n",
       "      <th>2</th>\n",
       "      <td>4S Ranch Community Park</td>\n",
       "      <td>3.241830</td>\n",
       "      <td>small</td>\n",
       "      <td>17</td>\n",
       "      <td>5</td>\n",
       "      <td>5.0</td>\n",
       "    </tr>\n",
       "    <tr>\n",
       "      <th>3</th>\n",
       "      <td>Ashley Falls Park</td>\n",
       "      <td>11.660442</td>\n",
       "      <td>average</td>\n",
       "      <td>2</td>\n",
       "      <td>5</td>\n",
       "      <td>4.5</td>\n",
       "    </tr>\n",
       "    <tr>\n",
       "      <th>4</th>\n",
       "      <td>Ashley Falls Park</td>\n",
       "      <td>11.660442</td>\n",
       "      <td>average</td>\n",
       "      <td>2</td>\n",
       "      <td>4</td>\n",
       "      <td>4.5</td>\n",
       "    </tr>\n",
       "    <tr>\n",
       "      <th>...</th>\n",
       "      <td>...</td>\n",
       "      <td>...</td>\n",
       "      <td>...</td>\n",
       "      <td>...</td>\n",
       "      <td>...</td>\n",
       "      <td>...</td>\n",
       "    </tr>\n",
       "    <tr>\n",
       "      <th>341</th>\n",
       "      <td>Westview Park</td>\n",
       "      <td>8.645989</td>\n",
       "      <td>small</td>\n",
       "      <td>7</td>\n",
       "      <td>4</td>\n",
       "      <td>3.5</td>\n",
       "    </tr>\n",
       "    <tr>\n",
       "      <th>342</th>\n",
       "      <td>Westview Park</td>\n",
       "      <td>8.645989</td>\n",
       "      <td>small</td>\n",
       "      <td>7</td>\n",
       "      <td>4</td>\n",
       "      <td>3.5</td>\n",
       "    </tr>\n",
       "    <tr>\n",
       "      <th>343</th>\n",
       "      <td>Windwood Park</td>\n",
       "      <td>1.173010</td>\n",
       "      <td>small</td>\n",
       "      <td>3</td>\n",
       "      <td>4</td>\n",
       "      <td>3.5</td>\n",
       "    </tr>\n",
       "    <tr>\n",
       "      <th>344</th>\n",
       "      <td>Windwood Park</td>\n",
       "      <td>1.173010</td>\n",
       "      <td>small</td>\n",
       "      <td>3</td>\n",
       "      <td>3</td>\n",
       "      <td>3.5</td>\n",
       "    </tr>\n",
       "    <tr>\n",
       "      <th>345</th>\n",
       "      <td>Windwood Park</td>\n",
       "      <td>1.173010</td>\n",
       "      <td>small</td>\n",
       "      <td>3</td>\n",
       "      <td>4</td>\n",
       "      <td>3.5</td>\n",
       "    </tr>\n",
       "  </tbody>\n",
       "</table>\n",
       "<p>346 rows × 6 columns</p>\n",
       "</div>"
      ],
      "text/plain": [
       "                        name      acres park_size  review_count  user_rating  \\\n",
       "0    4S Ranch Community Park   3.241830     small            17            5   \n",
       "1    4S Ranch Community Park   3.241830     small            17            4   \n",
       "2    4S Ranch Community Park   3.241830     small            17            5   \n",
       "3          Ashley Falls Park  11.660442   average             2            5   \n",
       "4          Ashley Falls Park  11.660442   average             2            4   \n",
       "..                       ...        ...       ...           ...          ...   \n",
       "341            Westview Park   8.645989     small             7            4   \n",
       "342            Westview Park   8.645989     small             7            4   \n",
       "343            Windwood Park   1.173010     small             3            4   \n",
       "344            Windwood Park   1.173010     small             3            3   \n",
       "345            Windwood Park   1.173010     small             3            4   \n",
       "\n",
       "     rating  \n",
       "0       5.0  \n",
       "1       5.0  \n",
       "2       5.0  \n",
       "3       4.5  \n",
       "4       4.5  \n",
       "..      ...  \n",
       "341     3.5  \n",
       "342     3.5  \n",
       "343     3.5  \n",
       "344     3.5  \n",
       "345     3.5  \n",
       "\n",
       "[346 rows x 6 columns]"
      ]
     },
     "execution_count": 13,
     "metadata": {},
     "output_type": "execute_result"
    }
   ],
   "source": [
    "# Merge location and yelp for a new dataframe that incorporates the multiple user ratings for each park\n",
    "all_reviews_size = pd.merge(location, yelp, on = 'name')\n",
    "\n",
    "all_reviews_size"
   ]
  },
  {
   "cell_type": "markdown",
   "metadata": {},
   "source": [
    "# Data Analysis and Results"
   ]
  },
  {
   "cell_type": "markdown",
   "metadata": {},
   "source": [
    "To start, I'm going to plot a scatter matrix to see the relationships between all the variables"
   ]
  },
  {
   "cell_type": "code",
   "execution_count": 14,
   "metadata": {},
   "outputs": [
    {
     "data": {
      "text/plain": [
       "<seaborn.axisgrid.PairGrid at 0x7fae08585f90>"
      ]
     },
     "execution_count": 14,
     "metadata": {},
     "output_type": "execute_result"
    },
    {
     "data": {
      "image/png": "[encoded data removed]",
      "text/plain": [
       "<Figure size 972x540 with 12 Axes>"
      ]
     },
     "metadata": {
      "needs_background": "light"
     },
     "output_type": "display_data"
    }
   ],
   "source": [
    "g = sns.pairplot(ratings_size, height = 2.5, aspect = 1.8);\n",
    "\n",
    "g.map_lower(sns.lineplot)\n",
    "g.map_upper(sns.regplot)"
   ]
  },
  {
   "cell_type": "markdown",
   "metadata": {},
   "source": [
    "At a glance this tells us a lot about the relationship between all our variables. By looking at the bottom-left and top-right plots, we can already see a positive correlation between a park's acres and rating. The more acres the park has, the higher the rating, meanwhile all the low ratings occur when there are only a few acres. However, this does not factor in all the variables and biases which may strongly influence these results, potentially giving us different outcomes alltogether. Upon observation of the linear regression models, it is apparent that there are significant outliers.\n",
    "\n",
    "To get a better understanding of the relationship between these variables and the size of the parks, I have plotted the same scatter matrix again, but this time detailing the values by categorizing them based on size."
   ]
  },
  {
   "cell_type": "code",
   "execution_count": 15,
   "metadata": {},
   "outputs": [
    {
     "data": {
      "text/plain": [
       "<seaborn.axisgrid.PairGrid at 0x7fae0363fa90>"
      ]
     },
     "execution_count": 15,
     "metadata": {},
     "output_type": "execute_result"
    },
    {
     "data": {
      "image/png": "[encoded data removed]",
      "text/plain": [
       "<Figure size 1058.62x540 with 12 Axes>"
      ]
     },
     "metadata": {
      "needs_background": "light"
     },
     "output_type": "display_data"
    }
   ],
   "source": [
    "g = sns.pairplot(ratings_size, hue = \"park_size\", hue_order = ['small', 'average', 'large', 'very large'],\n",
    "diag_kind = 'auto', height = 2.5, aspect = 1.8);\n",
    "\n",
    "g.map_lower(sns.lineplot)\n",
    "g.map_upper(sns.lineplot)"
   ]
  },
  {
   "cell_type": "markdown",
   "metadata": {},
   "source": [
    "With the categorization of the multiple values for each plot, we can now see the causes of all the outliers. The parks with the largest size produce these insane values, while the smaller parks barely make a dent. Now that we can see these variables, these outliers no longer matter. This is because each park size possesses its own correlation to each of the variables independent of the other park sizes which, as the plots show us, results in a seperation of the outliers while grouping those outliers together. It is now clear by looking at the bottom-left and top-right plots why we originally got our answer. The reason the ratings improve as the acres do was because parks with a large amount of acres get consistently high ratings, while smaller parks, as seen in the bottom-right plot, have more variance and are prone to outliers within their ratings.\n",
    "\n",
    "Now let's analyze a plot showing us the amount of each park's size in our dataset, and one showing the amount of each rating."
   ]
  },
  {
   "cell_type": "code",
   "execution_count": 16,
   "metadata": {},
   "outputs": [
    {
     "data": {
      "image/png": "[encoded data removed]",
      "text/plain": [
       "<Figure size 432x288 with 1 Axes>"
      ]
     },
     "metadata": {
      "needs_background": "light"
     },
     "output_type": "display_data"
    }
   ],
   "source": [
    "sns.countplot(ratings_size['park_size'], order = ['small', 'average', 'large', 'very large']);"
   ]
  },
  {
   "cell_type": "code",
   "execution_count": 17,
   "metadata": {},
   "outputs": [
    {
     "data": {
      "image/png": "[encoded data removed]",
      "text/plain": [
       "<Figure size 432x288 with 1 Axes>"
      ]
     },
     "metadata": {
      "needs_background": "light"
     },
     "output_type": "display_data"
    }
   ],
   "source": [
    "sns.countplot(ratings_size['rating'], hue = ratings_size['park_size'], hue_order = ['small', 'average', 'large', 'very large']);"
   ]
  },
  {
   "cell_type": "markdown",
   "metadata": {},
   "source": [
    "The amount of smaller(small and average) parks are significantly greater than the amount of larger(large and very large) parks.\n",
    "\n",
    "We can also see that the small parks ratings vary significantly. On one hand, they make up the entirety of the 1 star ratings and are more common in the lower ratings then the other sizes, but on the other, they make up a majority of the higher ratings as well losing out only in the 4.5 star rating category to average sized parks. Meanwhile very large parks are few in number, but are localized entirely with high ratings. \n",
    "\n",
    "This is a problem, as statistically, the very large park would be the best, but there aren't enough parks to truly know. To change this, analyzing the amount of review will help"
   ]
  },
  {
   "cell_type": "code",
   "execution_count": 18,
   "metadata": {},
   "outputs": [
    {
     "data": {
      "text/plain": [
       "<seaborn.axisgrid.FacetGrid at 0x7fae00e70750>"
      ]
     },
     "execution_count": 18,
     "metadata": {},
     "output_type": "execute_result"
    },
    {
     "data": {
      "image/png": "[encoded data removed]",
      "text/plain": [
       "<Figure size 360x360 with 1 Axes>"
      ]
     },
     "metadata": {
      "needs_background": "light"
     },
     "output_type": "display_data"
    }
   ],
   "source": [
    "ax = sns.catplot(x = 'park_size', y = 'review_count', kind = 'box', order = \n",
    "['small', 'average', 'large', 'very large'], data = ratings_size);\n",
    "ax.set(ylim=(0, 400))"
   ]
  },
  {
   "cell_type": "markdown",
   "metadata": {},
   "source": [
    "Here we see that the larger parks have a considerably larger amount of reviews compared to smaller parks. Even with the significant outliers assisting the small parks, the large parks still tower over them. We can see now that San Diego contains a lot of small parks, but few people go, and it has few large parks, but numerous people go.\n",
    "\n",
    "Now why do larger parks have very few in quantity, but make up for it in terms of quality?"
   ]
  },
  {
   "cell_type": "markdown",
   "metadata": {},
   "source": [
    "To explain this, I will use the user ratings to show the more impactful results."
   ]
  },
  {
   "cell_type": "code",
   "execution_count": 19,
   "metadata": {},
   "outputs": [
    {
     "data": {
      "text/plain": [
       "<seaborn.axisgrid.FacetGrid at 0x7fada7c8a0d0>"
      ]
     },
     "execution_count": 19,
     "metadata": {},
     "output_type": "execute_result"
    },
    {
     "data": {
      "image/png": "[encoded data removed]",
      "text/plain": [
       "<Figure size 424.625x360 with 1 Axes>"
      ]
     },
     "metadata": {
      "needs_background": "light"
     },
     "output_type": "display_data"
    }
   ],
   "source": [
    "ax = sns.catplot(x = 'park_size', y = 'review_count', kind = 'box', order = \n",
    "['small', 'average', 'large', 'very large'], hue = 'user_rating', data = all_reviews_size);\n",
    "ax.set(ylim=(0, 1500))"
   ]
  },
  {
   "cell_type": "markdown",
   "metadata": {},
   "source": [
    "The results highlight the difference between big and small parks. Large parks do not just get higher ratings, they consistently get numerous glowing reviews. Based on this, it is clear that bigger parks recieve higher ratings than smaller ones. \n",
    "\n",
    "But what is the reason for this? Recall in my prior research section the amount of acres a park usually takes up. The amount is purely reliant on the population of the jurisdiction. This means that the more people there are in a jurisdiction, the bigger the park will be."
   ]
  },
  {
   "cell_type": "code",
   "execution_count": 20,
   "metadata": {},
   "outputs": [
    {
     "data": {
      "image/png": "[encoded data removed]",
      "text/plain": [
       "<Figure size 432x288 with 1 Axes>"
      ]
     },
     "metadata": {
      "needs_background": "light"
     },
     "output_type": "display_data"
    }
   ],
   "source": [
    "ax = sns.lineplot(x = 'acres', y = 'review_count', data = ratings_size);"
   ]
  },
  {
   "cell_type": "markdown",
   "metadata": {},
   "source": [
    "This plot shows us that the bigger the park is, the more reviews it has, until it gets too big. Therefore we can say that a bigger park means more people are coming to the park"
   ]
  },
  {
   "cell_type": "code",
   "execution_count": 21,
   "metadata": {},
   "outputs": [
    {
     "data": {
      "image/png": "[encoded data removed]",
      "text/plain": [
       "<Figure size 432x288 with 1 Axes>"
      ]
     },
     "metadata": {
      "needs_background": "light"
     },
     "output_type": "display_data"
    }
   ],
   "source": [
    "sns.lineplot(ratings_size['review_count'], ratings_size['rating'], hue = ratings_size['park_size'],\n",
    "hue_order = ['small','average','large','very large']);"
   ]
  },
  {
   "cell_type": "markdown",
   "metadata": {},
   "source": [
    "This plot tells us the greater the amount of reviewes there are, the higher the rating is. Thus, the reason for bigger parks recieving higher reviews is not cause of their size, but because there are more people going to the park and reviewing it. \n",
    "\n",
    "Why are more people visiting these larger parks as opposed to smaller ones? It's not because they hate small parks, rather it's because they have access to the bigger ones. Bigger parks are built in areas with bigger population, thus, bigger parks get more reviews because there is a large amount of people visiting them compared to smaller ones which, are built in areas with a small population resulting in less reviews and vulnerability to outliers in the rating system. Bigger parks are rated higher, but that's because if someone gives that park a low rating, it will barely make a dent in its overall rating.\n",
    "\n",
    "This is proved the following plot which shows the user ratings as opposed to the overall ratings."
   ]
  },
  {
   "cell_type": "code",
   "execution_count": 22,
   "metadata": {},
   "outputs": [
    {
     "data": {
      "image/png": "[encoded data removed]",
      "text/plain": [
       "<Figure size 360x360 with 1 Axes>"
      ]
     },
     "metadata": {
      "needs_background": "light"
     },
     "output_type": "display_data"
    }
   ],
   "source": [
    "ax = sns.catplot(x = 'user_rating', y = 'rating', kind = 'box', data = all_reviews_size);"
   ]
  },
  {
   "cell_type": "markdown",
   "metadata": {},
   "source": [
    "This plot shows us that users give 1 star ratings to all parks no matter what that parks overall rating is. This is where small parks take a hit. If they were rated 5 stars and received a 1 star rating, their overall rating would drop depending on how many other reviews there were. Whereas if they gave a large park a 1 star rating, the overall rating wouldn't even budge due to the sheer number of positive reviews for it.\n",
    "\n",
    "This is shown in this next plot."
   ]
  },
  {
   "cell_type": "code",
   "execution_count": 23,
   "metadata": {},
   "outputs": [
    {
     "data": {
      "image/png": "[encoded data removed]",
      "text/plain": [
       "<Figure size 360x360 with 1 Axes>"
      ]
     },
     "metadata": {
      "needs_background": "light"
     },
     "output_type": "display_data"
    }
   ],
   "source": [
    "ax = sns.catplot(x = 'park_size', y = 'rating', kind = 'box', order = \n",
    "['small', 'average', 'large', 'very large'], data = ratings_size);"
   ]
  },
  {
   "cell_type": "markdown",
   "metadata": {},
   "source": [
    "Therefore, the amount of acres needed for a San Diego park to get high ratings is impossible to answer. While the more acres a park has the higher its rating is, may be true, the higher rating is not caused by the parks size, but the amount of people going to the park. This amount directly relates to the parks size due to the park itself having more acres because of the large amount of people."
   ]
  },
  {
   "cell_type": "markdown",
   "metadata": {},
   "source": [
    "# Ethics and Privacy\n",
    "All the data I used gave no personal information away. Park location data contained no personal information at all, and Yelps data only had information on the park, and users scores. I removed the user reviews column in the dataset that contained the text of their review which prevents potentially using that text to find the users on yelp. \n",
    "\n",
    "Admittedly, there is an abundance of bias in this dataset. First, the ratings for all these parks in San Diego is confined to Yelp, which already limits a large number of people. Second, there is a bias stemming from who the ratings are from, people willing to review parks on Yelp. This means that we only have the data of the type of people who like to leave reviews, which limits the dataset from the average person who does not care for leaving reviews. Lastly, there is a bias in terms of each of the parks location. All the parks are in San Diego, but in different parts, so while one park may have a community who frequents parks, another might barely have visitors. This in conjunction with the fact that bigger parks are built near larger populations imply a significant bias of the community in each park, which potentially skews the data."
   ]
  },
  {
   "cell_type": "markdown",
   "metadata": {},
   "source": [
    "# Conclusion and Discussion"
   ]
  },
  {
   "cell_type": "markdown",
   "metadata": {},
   "source": [
    "While the result comparing park's sizes to their ratings gave us a positive correlation, it might moreso be a spurious correlation. This result was due to the fact that larger parks are built in areas with a lot of people. The greater the population close to a park, the more people go to that park. The more people that go to that park, the more reviews that park will receive. \n",
    "\n",
    "Thus, while my hypothesis was correct and a greater park size means a higher rating, the result was most likely not due to the size of the park, rather it is the other way around. The park has an increased size BECAUSE of the size of the local population, which results in higher ratings for that park since more people have access to that park and can review it, thus saturating the ratings preventing outliers.\n",
    "\n",
    "This is important as it explains why larger parks are more well-recieved. These parks are generally built in areas with an increased population. So this research can be used to find more areas with denser populations and build parks there."
   ]
  }
 ],
 "metadata": {
  "kernelspec": {
   "display_name": "Python 3",
   "language": "python",
   "name": "python3"
  },
  "language_info": {
   "codemirror_mode": {
    "name": "ipython",
    "version": 3
   },
   "file_extension": ".py",
   "mimetype": "text/x-python",
   "name": "python",
   "nbconvert_exporter": "python",
   "pygments_lexer": "ipython3",
   "version": "3.7.6"
  }
 },
 "nbformat": 4,
 "nbformat_minor": 4
}
